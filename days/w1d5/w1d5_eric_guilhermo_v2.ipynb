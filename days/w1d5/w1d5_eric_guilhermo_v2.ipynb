{
 "cells": [
  {
   "cell_type": "code",
   "execution_count": 1,
   "metadata": {},
   "outputs": [],
   "source": [
    "import torch as t\n",
    "from torch import nn\n",
    "import torchvision \n",
    "from torchvision import transforms\n",
    "import einops\n",
    "import matplotlib.pyplot as plt\n",
    "from torch import optim\n",
    "import torch.nn.functional as F\n",
    "import random"
   ]
  },
  {
   "cell_type": "code",
   "execution_count": 2,
   "metadata": {},
   "outputs": [],
   "source": [
    "model = torchvision.models.resnet34(pretrained=True)\n",
    "model.eval();"
   ]
  },
  {
   "cell_type": "code",
   "execution_count": 3,
   "metadata": {},
   "outputs": [],
   "source": [
    "def imshow(img, figsize=(6, 6)):\n",
    "    plt.figure(figsize=figsize)\n",
    "    if len(img.shape) == 4:\n",
    "        img = img.squeeze(0)\n",
    "    img_reshaped = einops.rearrange(img, 'c w h -> w h c')\n",
    "    plt.imshow(img_reshaped.detach())\n",
    "    plt.xticks([])\n",
    "    plt.yticks([])"
   ]
  },
  {
   "cell_type": "code",
   "execution_count": 4,
   "metadata": {},
   "outputs": [],
   "source": [
    "class PixelImage(nn.Module):\n",
    "    def __init__(self):\n",
    "        super(PixelImage, self).__init__()\n",
    "        self.image = nn.Parameter(t.rand((1, 3, 224, 224)))\n",
    "\n",
    "    def forward(self):\n",
    "        return t.maximum(t.minimum(self.image, t.Tensor([1.])), t.Tensor([0.]))"
   ]
  },
  {
   "cell_type": "code",
   "execution_count": 5,
   "metadata": {},
   "outputs": [],
   "source": [
    "def train(image, logit_index, num_iters, lr=0.05):\n",
    "    logits = []\n",
    "    optimizer = optim.Adam(image.parameters(), lr)\n",
    "    for _ in range(num_iters):\n",
    "        optimizer.zero_grad()\n",
    "        output = model(image())\n",
    "        logit = output[0,logit_index]\n",
    "        logits.append(logit)\n",
    "        loss = -logit\n",
    "        loss.backward()\n",
    "        optimizer.step()\n",
    "    plt.plot(range(num_iters), logits)\n",
    "    print(f\"Final logit: {model(image())[0,logit_index]}\")"
   ]
  },
  {
   "cell_type": "code",
   "execution_count": 6,
   "metadata": {},
   "outputs": [
    {
     "ename": "KeyboardInterrupt",
     "evalue": "",
     "output_type": "error",
     "traceback": [
      "\u001b[0;31m---------------------------------------------------------------------------\u001b[0m",
      "\u001b[0;31mKeyboardInterrupt\u001b[0m                         Traceback (most recent call last)",
      "\u001b[0;32m<ipython-input-6-bb7007bceae8>\u001b[0m in \u001b[0;36m<module>\u001b[0;34m\u001b[0m\n\u001b[1;32m      1\u001b[0m \u001b[0mimage\u001b[0m \u001b[0;34m=\u001b[0m \u001b[0mPixelImage\u001b[0m\u001b[0;34m(\u001b[0m\u001b[0;34m)\u001b[0m\u001b[0;34m\u001b[0m\u001b[0;34m\u001b[0m\u001b[0m\n\u001b[0;32m----> 2\u001b[0;31m \u001b[0mtrain\u001b[0m\u001b[0;34m(\u001b[0m\u001b[0mimage\u001b[0m\u001b[0;34m,\u001b[0m \u001b[0;36m50\u001b[0m\u001b[0;34m,\u001b[0m \u001b[0;36m100\u001b[0m\u001b[0;34m)\u001b[0m\u001b[0;34m\u001b[0m\u001b[0;34m\u001b[0m\u001b[0m\n\u001b[0m\u001b[1;32m      3\u001b[0m \u001b[0mimshow\u001b[0m\u001b[0;34m(\u001b[0m\u001b[0mimage\u001b[0m\u001b[0;34m(\u001b[0m\u001b[0;34m)\u001b[0m\u001b[0;34m)\u001b[0m\u001b[0;34m\u001b[0m\u001b[0;34m\u001b[0m\u001b[0m\n",
      "\u001b[0;32m<ipython-input-5-a2668a6fb430>\u001b[0m in \u001b[0;36mtrain\u001b[0;34m(image, logit_index, num_iters, lr)\u001b[0m\n\u001b[1;32m      8\u001b[0m         \u001b[0mlogits\u001b[0m\u001b[0;34m.\u001b[0m\u001b[0mappend\u001b[0m\u001b[0;34m(\u001b[0m\u001b[0mlogit\u001b[0m\u001b[0;34m)\u001b[0m\u001b[0;34m\u001b[0m\u001b[0;34m\u001b[0m\u001b[0m\n\u001b[1;32m      9\u001b[0m         \u001b[0mloss\u001b[0m \u001b[0;34m=\u001b[0m \u001b[0;34m-\u001b[0m\u001b[0mlogit\u001b[0m\u001b[0;34m\u001b[0m\u001b[0;34m\u001b[0m\u001b[0m\n\u001b[0;32m---> 10\u001b[0;31m         \u001b[0mloss\u001b[0m\u001b[0;34m.\u001b[0m\u001b[0mbackward\u001b[0m\u001b[0;34m(\u001b[0m\u001b[0;34m)\u001b[0m\u001b[0;34m\u001b[0m\u001b[0;34m\u001b[0m\u001b[0m\n\u001b[0m\u001b[1;32m     11\u001b[0m         \u001b[0moptimizer\u001b[0m\u001b[0;34m.\u001b[0m\u001b[0mstep\u001b[0m\u001b[0;34m(\u001b[0m\u001b[0;34m)\u001b[0m\u001b[0;34m\u001b[0m\u001b[0;34m\u001b[0m\u001b[0m\n\u001b[1;32m     12\u001b[0m     \u001b[0mplt\u001b[0m\u001b[0;34m.\u001b[0m\u001b[0mplot\u001b[0m\u001b[0;34m(\u001b[0m\u001b[0mrange\u001b[0m\u001b[0;34m(\u001b[0m\u001b[0mnum_iters\u001b[0m\u001b[0;34m)\u001b[0m\u001b[0;34m,\u001b[0m \u001b[0mlogits\u001b[0m\u001b[0;34m)\u001b[0m\u001b[0;34m\u001b[0m\u001b[0;34m\u001b[0m\u001b[0m\n",
      "\u001b[0;32m~/.local/lib/python3.8/site-packages/torch/_tensor.py\u001b[0m in \u001b[0;36mbackward\u001b[0;34m(self, gradient, retain_graph, create_graph, inputs)\u001b[0m\n\u001b[1;32m    305\u001b[0m                 \u001b[0mcreate_graph\u001b[0m\u001b[0;34m=\u001b[0m\u001b[0mcreate_graph\u001b[0m\u001b[0;34m,\u001b[0m\u001b[0;34m\u001b[0m\u001b[0;34m\u001b[0m\u001b[0m\n\u001b[1;32m    306\u001b[0m                 inputs=inputs)\n\u001b[0;32m--> 307\u001b[0;31m         \u001b[0mtorch\u001b[0m\u001b[0;34m.\u001b[0m\u001b[0mautograd\u001b[0m\u001b[0;34m.\u001b[0m\u001b[0mbackward\u001b[0m\u001b[0;34m(\u001b[0m\u001b[0mself\u001b[0m\u001b[0;34m,\u001b[0m \u001b[0mgradient\u001b[0m\u001b[0;34m,\u001b[0m \u001b[0mretain_graph\u001b[0m\u001b[0;34m,\u001b[0m \u001b[0mcreate_graph\u001b[0m\u001b[0;34m,\u001b[0m \u001b[0minputs\u001b[0m\u001b[0;34m=\u001b[0m\u001b[0minputs\u001b[0m\u001b[0;34m)\u001b[0m\u001b[0;34m\u001b[0m\u001b[0;34m\u001b[0m\u001b[0m\n\u001b[0m\u001b[1;32m    308\u001b[0m \u001b[0;34m\u001b[0m\u001b[0m\n\u001b[1;32m    309\u001b[0m     \u001b[0;32mdef\u001b[0m \u001b[0mregister_hook\u001b[0m\u001b[0;34m(\u001b[0m\u001b[0mself\u001b[0m\u001b[0;34m,\u001b[0m \u001b[0mhook\u001b[0m\u001b[0;34m)\u001b[0m\u001b[0;34m:\u001b[0m\u001b[0;34m\u001b[0m\u001b[0;34m\u001b[0m\u001b[0m\n",
      "\u001b[0;32m~/.local/lib/python3.8/site-packages/torch/autograd/__init__.py\u001b[0m in \u001b[0;36mbackward\u001b[0;34m(tensors, grad_tensors, retain_graph, create_graph, grad_variables, inputs)\u001b[0m\n\u001b[1;32m    152\u001b[0m         \u001b[0mretain_graph\u001b[0m \u001b[0;34m=\u001b[0m \u001b[0mcreate_graph\u001b[0m\u001b[0;34m\u001b[0m\u001b[0;34m\u001b[0m\u001b[0m\n\u001b[1;32m    153\u001b[0m \u001b[0;34m\u001b[0m\u001b[0m\n\u001b[0;32m--> 154\u001b[0;31m     Variable._execution_engine.run_backward(\n\u001b[0m\u001b[1;32m    155\u001b[0m         \u001b[0mtensors\u001b[0m\u001b[0;34m,\u001b[0m \u001b[0mgrad_tensors_\u001b[0m\u001b[0;34m,\u001b[0m \u001b[0mretain_graph\u001b[0m\u001b[0;34m,\u001b[0m \u001b[0mcreate_graph\u001b[0m\u001b[0;34m,\u001b[0m \u001b[0minputs\u001b[0m\u001b[0;34m,\u001b[0m\u001b[0;34m\u001b[0m\u001b[0;34m\u001b[0m\u001b[0m\n\u001b[1;32m    156\u001b[0m         allow_unreachable=True, accumulate_grad=True)  # allow_unreachable flag\n",
      "\u001b[0;31mKeyboardInterrupt\u001b[0m: "
     ]
    }
   ],
   "source": [
    "image = PixelImage()\n",
    "train(image, 50, 100)\n",
    "imshow(image())"
   ]
  },
  {
   "cell_type": "code",
   "execution_count": null,
   "metadata": {},
   "outputs": [],
   "source": [
    "class SigmoidImage(nn.Module):\n",
    "    def __init__(self):\n",
    "        super(SigmoidImage, self).__init__()\n",
    "        self.image = nn.Parameter(t.randn((1, 3, 224, 224)))\n",
    "\n",
    "    def forward(self):\n",
    "        return t.sigmoid(self.image)"
   ]
  },
  {
   "cell_type": "code",
   "execution_count": null,
   "metadata": {},
   "outputs": [],
   "source": [
    "image = SigmoidImage()\n",
    "train(image, 50, 100)\n",
    "imshow(image())"
   ]
  },
  {
   "cell_type": "code",
   "execution_count": null,
   "metadata": {},
   "outputs": [],
   "source": [
    "def transform_train(image, logit_index, num_iters, lr=0.05, tforms=[]):\n",
    "    logits = []\n",
    "    optimizer = optim.Adam(image.parameters(), lr)\n",
    "    for _ in range(num_iters):\n",
    "        optimizer.zero_grad()\n",
    "        transformed_image = transforms.Compose(tforms)(image())\n",
    "        output = model(transformed_image)\n",
    "        logit = output[0,logit_index]\n",
    "        logits.append(logit)\n",
    "        loss = -logit\n",
    "        loss.backward()\n",
    "        optimizer.step()\n",
    "    plt.plot(range(num_iters), logits)\n",
    "    print(f\"Final logit: {model(image())[0,logit_index]}\")"
   ]
  },
  {
   "cell_type": "code",
   "execution_count": null,
   "metadata": {},
   "outputs": [],
   "source": [
    "image = SigmoidImage()\n",
    "tforms = [transforms.ColorJitter(.05, .05, .05, .05), transforms.RandomAffine((-10, 10), (0.03, 0.03), scale=(0.9, 1.1))]\n",
    "transform_train(image, 10, 100, lr=0.05, tforms=tforms)\n",
    "imshow(image())"
   ]
  },
  {
   "cell_type": "code",
   "execution_count": null,
   "metadata": {},
   "outputs": [],
   "source": [
    "class FourierImage(nn.Module):\n",
    "    def __init__(self):\n",
    "        super(FourierImage, self).__init__()\n",
    "        self.freq_params = nn.Parameter(t.randn((1, 3, 224, 113, 2)))\n",
    "\n",
    "    def forward(self):\n",
    "        image = t.fft.irfft2(t.view_as_complex(self.freq_params))\n",
    "        return t.sigmoid(image)"
   ]
  },
  {
   "cell_type": "code",
   "execution_count": null,
   "metadata": {},
   "outputs": [],
   "source": [
    "image = FourierImage()\n",
    "train(image, 50, 100, lr=20)\n",
    "imshow(image())"
   ]
  },
  {
   "cell_type": "code",
   "execution_count": null,
   "metadata": {},
   "outputs": [],
   "source": [
    "class NormalizedFourierImage(nn.Module):\n",
    "    def __init__(self, height=224, width=113):\n",
    "        super(NormalizedFourierImage, self).__init__()\n",
    "        self.amplitudes = nn.Parameter(t.randn((1, 3, height, width, 2)))\n",
    "        fxs = einops.repeat(t.fft.fftfreq(width), \"w -> h w\", h=height)\n",
    "        fys = einops.repeat(t.fft.fftfreq(height), \"h -> h w\", w=width)\n",
    "        self.norms = 1 / t.sqrt(fxs**2 + fys**2)\n",
    "        self.norms[0,0] = height \n",
    "\n",
    "    def forward(self):\n",
    "        image = t.fft.irfft2(self.norms * t.view_as_complex(self.amplitudes))\n",
    "        return t.sigmoid(image)"
   ]
  },
  {
   "cell_type": "code",
   "execution_count": null,
   "metadata": {},
   "outputs": [],
   "source": [
    "image = NormalizedFourierImage()\n",
    "imshow(image())\n",
    "transform_train(image, 20, 100, lr=20, tforms=tforms)\n",
    "imshow(image())"
   ]
  },
  {
   "cell_type": "code",
   "execution_count": null,
   "metadata": {},
   "outputs": [],
   "source": [
    "class DecorrelatedImage(nn.Module):\n",
    "    def __init__(self, width=224, height=224):\n",
    "        super(DecorrelatedImage, self).__init__()\n",
    "        self.matrix = t.Tensor([[0.56282854, 0.19482528, 0.0432945],\n",
    "                                [0.5844758, 0., -0.10823626],\n",
    "                                [ 0.5844758, -0.19482528, 0.06494176]])\n",
    "        self.decorrel_params = nn.Parameter(t.randn((1, 3, height, width)))\n",
    "        self.height = height\n",
    "        self.width = width\n",
    "\n",
    "    def forward(self):\n",
    "        image = t.einsum(\"b c h w, a c -> b a h w\", self.decorrel_params, self.matrix)\n",
    "        image = (image - image.mean())/image.std()\n",
    "        return t.sigmoid(image)"
   ]
  },
  {
   "cell_type": "code",
   "execution_count": null,
   "metadata": {},
   "outputs": [],
   "source": [
    "image = DecorrelatedImage()\n",
    "imshow(image())\n",
    "train(image, 50, 100)\n",
    "imshow(image())"
   ]
  },
  {
   "cell_type": "code",
   "execution_count": null,
   "metadata": {},
   "outputs": [],
   "source": [
    "class DecorrelatedFourierImage(nn.Module):\n",
    "    def __init__(self, height=224, width=113):\n",
    "        super(DecorrelatedFourierImage, self).__init__()\n",
    "        self.amplitudes = nn.Parameter(t.randn((1, 3, height, width, 2)))\n",
    "        fxs = einops.repeat(t.fft.fftfreq(width), \"w -> h w\", h=height)\n",
    "        fys = einops.repeat(t.fft.fftfreq(height), \"h -> h w\", w=width)\n",
    "        self.norms = 1 / t.sqrt(fxs**2 + fys**2)\n",
    "        self.norms[0,0] = height\n",
    "        self.matrix = t.Tensor([[0.56282854, 0.19482528, 0.0432945],\n",
    "                                [0.5844758, 0., -0.10823626],\n",
    "                                [ 0.5844758, -0.19482528, 0.06494176]])\n",
    "\n",
    "    def forward(self):\n",
    "        decorrel_params = t.fft.irfft2(self.norms * t.view_as_complex(self.amplitudes))\n",
    "        image = t.einsum(\"b c h w, a c -> b a h w\", decorrel_params, self.matrix)\n",
    "        image = (image - image.mean())/image.std()\n",
    "        return t.sigmoid(image)"
   ]
  },
  {
   "cell_type": "code",
   "execution_count": null,
   "metadata": {},
   "outputs": [],
   "source": [
    "image = DecorrelatedFourierImage()\n",
    "imshow(image())\n",
    "transform_train(image, 50, 200, lr=40, tforms=tforms)\n",
    "imshow(image())"
   ]
  },
  {
   "cell_type": "code",
   "execution_count": null,
   "metadata": {},
   "outputs": [],
   "source": [
    "activations = {}\n",
    "# attach this to layers after ReLU\n",
    "def get_activations(module, module_inputs, module_outputs):\n",
    "    activations[module] = module_outputs[:,:10,...]"
   ]
  },
  {
   "cell_type": "code",
   "execution_count": null,
   "metadata": {},
   "outputs": [],
   "source": [
    "model = torchvision.models.resnet34(pretrained=True)\n",
    "model.eval();"
   ]
  },
  {
   "cell_type": "code",
   "execution_count": null,
   "metadata": {},
   "outputs": [],
   "source": [
    "hooks = []\n",
    "relus = list(filter(lambda x: type(x) == nn.modules.activation.ReLU, model.modules()))\n",
    "for relu in relus:\n",
    "    hook = relu.register_forward_hook(get_activations)\n",
    "    hooks.append(hook)"
   ]
  },
  {
   "cell_type": "code",
   "execution_count": null,
   "metadata": {},
   "outputs": [],
   "source": [
    "def train_with_hooks(image, layer, channel, num_iters, lr=0.05):\n",
    "    # losses = []\n",
    "    optimizer = optim.Adam(image.parameters(), lr)\n",
    "    for _ in range(num_iters):\n",
    "        optimizer.zero_grad()\n",
    "        model(image())\n",
    "        relu = relus[layer]\n",
    "        loss = -t.sum(activations[relu] * activations[relu], dim=(0,2,3))[channel]\n",
    "        # losses.append(loss)\n",
    "        loss.backward()\n",
    "        optimizer.step()\n",
    "    # plt.plot(range(num_iters), losses)"
   ]
  },
  {
   "cell_type": "code",
   "execution_count": null,
   "metadata": {},
   "outputs": [],
   "source": [
    "# for layer in range(17):\n",
    "#     for channel in range(10):\n",
    "#         image = DecorrelatedFourierImage()\n",
    "#         # imshow(image())\n",
    "#         train_with_hooks(image, layer, channel, 50, lr=40)\n",
    "#         print(layer, channel)\n",
    "#         imshow(image())"
   ]
  },
  {
   "cell_type": "code",
   "execution_count": null,
   "metadata": {},
   "outputs": [],
   "source": [
    "for hook in hooks:\n",
    "    hook.remove()"
   ]
  }
 ],
 "metadata": {
  "kernelspec": {
   "display_name": "Python 3",
   "language": "python",
   "name": "python3"
  },
  "language_info": {
   "codemirror_mode": {
    "name": "ipython",
    "version": 3
   },
   "file_extension": ".py",
   "mimetype": "text/x-python",
   "name": "python",
   "nbconvert_exporter": "python",
   "pygments_lexer": "ipython3",
   "version": "3.8.5"
  }
 },
 "nbformat": 4,
 "nbformat_minor": 4
}
