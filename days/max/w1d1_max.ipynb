{
 "cells": [
  {
   "cell_type": "code",
   "execution_count": 4,
   "metadata": {},
   "outputs": [],
   "source": [
    "import torch as t\n",
    "from torch import einsum\n",
    "from einops import rearrange, reduce, repeat\n",
    "import numpy as np\n",
    "import mlab_tests\n",
    "import days.day1_tests"
   ]
  },
  {
   "cell_type": "code",
   "execution_count": 5,
   "metadata": {},
   "outputs": [
    {
     "name": "stdout",
     "output_type": "stream",
     "text": [
      "['/home/ubuntu/mlab/max', '/home/ubuntu/.vscode-server/extensions/ms-toolsai.jupyter-2021.11.1001550889/pythonFiles/vscode_datascience_helpers', '/home/ubuntu/.vscode-server/extensions/ms-toolsai.jupyter-2021.11.1001550889/pythonFiles', '/home/ubuntu/.vscode-server/extensions/ms-toolsai.jupyter-2021.11.1001550889/pythonFiles/lib/python', '/usr/lib/python38.zip', '/usr/lib/python3.8', '/usr/lib/python3.8/lib-dynload', '', '/home/ubuntu/.local/lib/python3.8/site-packages', '/home/ubuntu/mlab', '/usr/local/lib/python3.8/dist-packages', '/usr/lib/python3/dist-packages', '/usr/lib/python3/dist-packages/IPython/extensions', '/home/ubuntu/.ipython']\n"
     ]
    }
   ],
   "source": [
    "import sys\n",
    "print(sys.path)"
   ]
  },
  {
   "cell_type": "code",
   "execution_count": null,
   "metadata": {},
   "outputs": [],
   "source": []
  },
  {
   "cell_type": "code",
   "execution_count": 6,
   "metadata": {},
   "outputs": [
    {
     "data": {
      "text/plain": [
       "tensor([[3, 4],\n",
       "        [5, 6],\n",
       "        [7, 8]])"
      ]
     },
     "execution_count": 6,
     "metadata": {},
     "output_type": "execute_result"
    }
   ],
   "source": [
    "# docs a little confusing\n",
    "\n",
    "rearrange(torch.arange(3, 9), \"(d1 d) -> d1 d\", d1=3)"
   ]
  },
  {
   "cell_type": "code",
   "execution_count": 7,
   "metadata": {},
   "outputs": [
    {
     "data": {
      "text/plain": [
       "tensor([[1, 2, 3],\n",
       "        [4, 5, 6]])"
      ]
     },
     "execution_count": 7,
     "metadata": {},
     "output_type": "execute_result"
    }
   ],
   "source": [
    "rearrange(torch.arange(1, 7), \"(h w) -> h w\", h = 2)"
   ]
  },
  {
   "cell_type": "code",
   "execution_count": 19,
   "metadata": {},
   "outputs": [
    {
     "data": {
      "text/plain": [
       "tensor([[[1],\n",
       "         [2],\n",
       "         [3],\n",
       "         [4],\n",
       "         [5],\n",
       "         [6]]])"
      ]
     },
     "execution_count": 19,
     "metadata": {},
     "output_type": "execute_result"
    }
   ],
   "source": [
    "rearrange(torch.arange(1, 7), \"(h w l) -> h w l\", h = 1, l = 1)"
   ]
  },
  {
   "cell_type": "code",
   "execution_count": 18,
   "metadata": {},
   "outputs": [
    {
     "data": {
      "text/plain": [
       "torch.Size([1, 6, 1])"
      ]
     },
     "execution_count": 18,
     "metadata": {},
     "output_type": "execute_result"
    }
   ],
   "source": [
    "t.tensor([[[1], [2], [3], [4], [5], [6]]]).shape"
   ]
  },
  {
   "cell_type": "code",
   "execution_count": 35,
   "metadata": {},
   "outputs": [
    {
     "name": "stdout",
     "output_type": "stream",
     "text": [
      "tensor([[71., 72., 70., 75., 71., 72., 70.],\n",
      "        [68., 65., 60., 68., 60., 55., 59.],\n",
      "        [75., 80., 85., 80., 78., 72., 83.]], dtype=torch.float64)\n",
      "tensor([[1.7182],\n",
      "        [4.9473],\n",
      "        [4.4721]], dtype=torch.float64)\n"
     ]
    },
    {
     "data": {
      "text/plain": [
       "tensor([[-0.3326,  0.2494, -0.9146,  1.9954, -0.3326,  0.2494, -0.9146],\n",
       "        [ 1.1839,  0.5775, -0.4331,  1.1839, -0.4331, -1.4438, -0.6353],\n",
       "        [-0.8944,  0.2236,  1.3416,  0.2236, -0.2236, -1.5652,  0.8944]],\n",
       "       dtype=torch.float64)"
      ]
     },
     "execution_count": 35,
     "metadata": {},
     "output_type": "execute_result"
    }
   ],
   "source": [
    "def normalize(temps):\n",
    "    temps = rearrange(temps, \"(h w) -> h w\", w = 7)\n",
    "    print(temps)\n",
    "    temps -= reduce(temps, \"h w -> h 1\", \"mean\") \n",
    "    return temps / reduce(temps, \"h w -> h 1\", t.std)\n",
    "normalize(t.tensor([71,72,70,75,71,72,70,68,65,60,68,60,55,59,75,80,85,80,78,72,83], dtype=float))"
   ]
  },
  {
   "cell_type": "code",
   "execution_count": 36,
   "metadata": {},
   "outputs": [],
   "source": [
    "def my_dot(t1, t2):\n",
    "    return reduce(t1 * t2, \"... d -> ...\", \"sum\")\n",
    "    "
   ]
  },
  {
   "cell_type": "code",
   "execution_count": 37,
   "metadata": {},
   "outputs": [
    {
     "data": {
      "text/plain": [
       "tensor([2., 0.])"
      ]
     },
     "execution_count": 37,
     "metadata": {},
     "output_type": "execute_result"
    }
   ],
   "source": [
    "my_dot(t.Tensor([[1,1,0],[0,0,1]]),t.Tensor([[1,1,0],[1,1,0]]))"
   ]
  },
  {
   "cell_type": "code",
   "execution_count": 45,
   "metadata": {},
   "outputs": [
    {
     "name": "stdout",
     "output_type": "stream",
     "text": [
      "tensor([0., 3., 6., 9.]) tensor([ 0.,  5., 10., 15.])\n",
      "tensor([[0., 3., 6., 9.],\n",
      "        [0., 3., 6., 9.],\n",
      "        [0., 3., 6., 9.],\n",
      "        [0., 3., 6., 9.]]) tensor([[ 0.,  0.,  0.,  0.],\n",
      "        [ 5.,  5.,  5.,  5.],\n",
      "        [10., 10., 10., 10.],\n",
      "        [15., 15., 15., 15.]])\n"
     ]
    },
    {
     "data": {
      "text/plain": [
       "tensor([[ 0.,  0.],\n",
       "        [ 3.,  0.],\n",
       "        [ 6.,  0.],\n",
       "        [ 9.,  0.],\n",
       "        [ 0.,  5.],\n",
       "        [ 3.,  5.],\n",
       "        [ 6.,  5.],\n",
       "        [ 9.,  5.],\n",
       "        [ 0., 10.],\n",
       "        [ 3., 10.],\n",
       "        [ 6., 10.],\n",
       "        [ 9., 10.],\n",
       "        [ 0., 15.],\n",
       "        [ 3., 15.],\n",
       "        [ 6., 15.],\n",
       "        [ 9., 15.]])"
      ]
     },
     "execution_count": 45,
     "metadata": {},
     "output_type": "execute_result"
    }
   ],
   "source": [
    "def get_corners(h, w, n):\n",
    "    top = t.linspace(0, h, n + 1)\n",
    "    side = t.linspace(0, w, n + 1)\n",
    "    rep_top = repeat(top, \"w -> h w\", h = n + 1)\n",
    "    rep_side = repeat(side, \"h -> h w\", w = n + 1)\n",
    "    return rearrange([rep_top, rep_side], \"a b c -> (b c) a\")\n",
    "get_corners(9, 15, 3)"
   ]
  },
  {
   "cell_type": "code",
   "execution_count": 203,
   "metadata": {},
   "outputs": [
    {
     "name": "stdout",
     "output_type": "stream",
     "text": [
      "tensor([[ 0.,  5., 10., 15.],\n",
      "        [ 0.,  5., 10., 15.],\n",
      "        [ 0.,  5., 10., 15.],\n",
      "        [ 0.,  5., 10., 15.]])\n"
     ]
    },
    {
     "data": {
      "text/plain": [
       "tensor([[ 0.,  0.],\n",
       "        [ 5.,  0.],\n",
       "        [10.,  0.],\n",
       "        [15.,  0.],\n",
       "        [ 0.,  3.],\n",
       "        [ 5.,  3.],\n",
       "        [10.,  3.],\n",
       "        [15.,  3.],\n",
       "        [ 0.,  6.],\n",
       "        [ 5.,  6.],\n",
       "        [10.,  6.],\n",
       "        [15.,  6.],\n",
       "        [ 0.,  9.],\n",
       "        [ 5.,  9.],\n",
       "        [10.,  9.],\n",
       "        [15.,  9.]])"
      ]
     },
     "execution_count": 203,
     "metadata": {},
     "output_type": "execute_result"
    }
   ],
   "source": [
    "def ex4(H: float, W: float, n: int):\n",
    "    xaxis = torch.linspace(0, H, n + 1)\n",
    "    xtile = torch.tile(xaxis, dims=(n + 1, 1))\n",
    "    yaxis = torch.linspace(0, W, n + 1)[:, None]\n",
    "    ytile = torch.tile(yaxis, dims=(n + 1,))\n",
    "    return torch.stack([rearrange(xtile, \"h w -> (h w)\"), rearrange(ytile, \"h w -> (h w)\")]).T\n",
    "\n",
    "\n",
    "ex4(15, 9, 3)"
   ]
  },
  {
   "cell_type": "code",
   "execution_count": 53,
   "metadata": {},
   "outputs": [
    {
     "data": {
      "text/plain": [
       "tensor([[1, 0, 0, 0],\n",
       "        [0, 1, 0, 0],\n",
       "        [0, 0, 1, 0],\n",
       "        [0, 0, 0, 1]], dtype=torch.int32)"
      ]
     },
     "execution_count": 53,
     "metadata": {},
     "output_type": "execute_result"
    }
   ],
   "source": [
    "def eye(n):\n",
    "    x = t.arange(n)\n",
    "    first = x == rearrange(x, \"d -> d 1\")\n",
    "    first = first.type(t.int)\n",
    "    return (first)\n",
    "\n",
    "eye(4)"
   ]
  },
  {
   "cell_type": "code",
   "execution_count": 69,
   "metadata": {},
   "outputs": [],
   "source": [
    "def sample(p, n):\n",
    "    cum = t.cumsum(p, dim = 0)\n",
    "    print(cum)\n",
    "    rand = t.rand((n, 1))\n",
    "    print(rand)\n",
    "    print(rand > cum)\n",
    "    return(reduce(rand > cum, \"h w -> h\", \"sum\"))\n",
    "\n",
    "# row vec and col vec give cartesian operations\n",
    "    "
   ]
  },
  {
   "cell_type": "code",
   "execution_count": 70,
   "metadata": {},
   "outputs": [
    {
     "name": "stdout",
     "output_type": "stream",
     "text": [
      "tensor([0.1000, 0.4000, 1.0000])\n",
      "tensor([[0.6129],\n",
      "        [0.9464],\n",
      "        [0.5580],\n",
      "        [0.2154],\n",
      "        [0.2052]])\n",
      "tensor([[ True,  True, False],\n",
      "        [ True,  True, False],\n",
      "        [ True,  True, False],\n",
      "        [ True, False, False],\n",
      "        [ True, False, False]])\n"
     ]
    },
    {
     "data": {
      "text/plain": [
       "tensor([2, 2, 2, 1, 1])"
      ]
     },
     "execution_count": 70,
     "metadata": {},
     "output_type": "execute_result"
    }
   ],
   "source": [
    "sample(t.tensor([0.1, 0.3, 0.6]), 5)"
   ]
  },
  {
   "cell_type": "code",
   "execution_count": 71,
   "metadata": {},
   "outputs": [],
   "source": [
    "def accuracy(scores, y):\n",
    "    y_hat = reduce(scores, \"h w -> h\". t.argmax)\n",
    "    return t.mean(y_hat == y)\n"
   ]
  },
  {
   "cell_type": "code",
   "execution_count": 72,
   "metadata": {},
   "outputs": [],
   "source": [
    "def topk_acc(scores, y):\n",
    "    equal = scores.argsort()[:, -k:] == y[:, None]\n",
    "    return equal.any(dim = -1).mean()"
   ]
  },
  {
   "cell_type": "code",
   "execution_count": 75,
   "metadata": {},
   "outputs": [
    {
     "data": {
      "text/plain": [
       "tensor(70)"
      ]
     },
     "execution_count": 75,
     "metadata": {},
     "output_type": "execute_result"
    }
   ],
   "source": [
    "def rev(p, i):\n",
    "    return t.gather(p, dim = -1, index=i).sum()\n",
    "rev(t.tensor([10, 20, 30, 40]), t.tensor([1, 1, 2]))"
   ]
  },
  {
   "cell_type": "code",
   "execution_count": 76,
   "metadata": {},
   "outputs": [
    {
     "name": "stdout",
     "output_type": "stream",
     "text": [
      "tensor([[0.8982, 0.3731, 0.6732, 0.8753, 0.7616],\n",
      "        [0.5981, 0.1035, 0.4055, 0.0884, 0.6497],\n",
      "        [0.5420, 0.3132, 0.9956, 0.3145, 0.3447],\n",
      "        [0.6885, 0.2266, 0.9304, 0.0089, 0.5238],\n",
      "        [0.4605, 0.6628, 0.0478, 0.0785, 0.1228],\n",
      "        [0.5382, 0.8775, 0.6688, 0.5643, 0.6476],\n",
      "        [0.2065, 0.1864, 0.9762, 0.7217, 0.7781],\n",
      "        [0.2293, 0.8629, 0.9419, 0.8488, 0.3082],\n",
      "        [0.6801, 0.6376, 0.4772, 0.3736, 0.3509],\n",
      "        [0.9329, 0.7375, 0.5130, 0.0025, 0.3274]])\n",
      "tensor([[0.8753, 0.8753, 0.3731],\n",
      "        [0.0884, 0.1035, 0.4055],\n",
      "        [0.3447, 0.5420, 0.5420],\n",
      "        [0.2266, 0.6885, 0.0089],\n",
      "        [0.6628, 0.0478, 0.6628],\n",
      "        [0.6688, 0.6688, 0.6688],\n",
      "        [0.7781, 0.2065, 0.7781],\n",
      "        [0.3082, 0.8629, 0.2293],\n",
      "        [0.6801, 0.6801, 0.6801],\n",
      "        [0.5130, 0.0025, 0.9329]])\n"
     ]
    }
   ],
   "source": [
    "def sample2(A, n):\n",
    "    indices = t.randint(A.shape[1], (A.shape[0], n))\n",
    "    return t.gather(A, dim = 1, index = indices)\n",
    "\n",
    "values = t.rand((10, 5))\n",
    "print(values)\n",
    "print(sample2(values, 3))"
   ]
  },
  {
   "cell_type": "code",
   "execution_count": 102,
   "metadata": {},
   "outputs": [],
   "source": [
    "def to_one_hot(v, K):\n",
    "    out = t.zeros((v.shape[0], K)).to(int)\n",
    "    print(out)\n",
    "    indices = v[:, None].to(int)\n",
    "    print(indices)\n",
    "    values = t.ones_like(indices).to(int)\n",
    "    print(values)\n",
    "    return out.scatter(dim = -1, index = indices, src = values)"
   ]
  },
  {
   "cell_type": "code",
   "execution_count": 103,
   "metadata": {},
   "outputs": [
    {
     "name": "stdout",
     "output_type": "stream",
     "text": [
      "tensor([[0, 0, 0, 0, 0],\n",
      "        [0, 0, 0, 0, 0],\n",
      "        [0, 0, 0, 0, 0]])\n",
      "tensor([[3],\n",
      "        [2],\n",
      "        [4]])\n",
      "tensor([[1],\n",
      "        [1],\n",
      "        [1]])\n"
     ]
    },
    {
     "data": {
      "text/plain": [
       "tensor([[0, 0, 0, 1, 0],\n",
       "        [0, 0, 1, 0, 0],\n",
       "        [0, 0, 0, 0, 1]])"
      ]
     },
     "execution_count": 103,
     "metadata": {},
     "output_type": "execute_result"
    }
   ],
   "source": [
    "to_one_hot(t.tensor([3, 2, 4]), 5)"
   ]
  },
  {
   "cell_type": "code",
   "execution_count": 104,
   "metadata": {},
   "outputs": [],
   "source": [
    "def relu(A):\n",
    "    A = A.clone()\n",
    "    A[A < 0] = 0\n",
    "    return A"
   ]
  },
  {
   "cell_type": "code",
   "execution_count": 105,
   "metadata": {},
   "outputs": [],
   "source": [
    "def dropout(A, p, is_train):\n",
    "    if not is_train:\n",
    "        return A\n",
    "    A[t.rand_like(A) > p] = 0\n",
    "    return A"
   ]
  },
  {
   "cell_type": "code",
   "execution_count": 106,
   "metadata": {},
   "outputs": [
    {
     "data": {
      "text/plain": [
       "tensor([[0, 3],\n",
       "        [1, 4],\n",
       "        [2, 5]])"
      ]
     },
     "execution_count": 106,
     "metadata": {},
     "output_type": "execute_result"
    }
   ],
   "source": [
    "a = torch.arange(6).reshape(2, 3)\n",
    "b = torch.einsum('ij->ji', a)"
   ]
  },
  {
   "cell_type": "code",
   "execution_count": 107,
   "metadata": {},
   "outputs": [],
   "source": [
    "def linear(input, weights, b):\n",
    "    return t.einsum('ik, ...k -> ...i', [weights, input]) + b"
   ]
  },
  {
   "cell_type": "code",
   "execution_count": 109,
   "metadata": {},
   "outputs": [],
   "source": [
    "def softmax(A):\n",
    "    exps = t.exp(A)\n",
    "    return exps / reduce(exps, \"... d -> ... 1\", \"sum\")"
   ]
  },
  {
   "cell_type": "code",
   "execution_count": 110,
   "metadata": {},
   "outputs": [],
   "source": [
    "def logsm(A):\n",
    "    B = A - t.max(A)\n",
    "    return B - t.exp(B).sum(-1, keepdim=True).log()"
   ]
  },
  {
   "cell_type": "code",
   "execution_count": null,
   "metadata": {},
   "outputs": [],
   "source": [
    "def centropy(A):\n",
    "    probs = log"
   ]
  },
  {
   "cell_type": "code",
   "execution_count": 142,
   "metadata": {},
   "outputs": [],
   "source": [
    "def convolve(v, w):\n",
    "    outlen = len(v) - len(w) + 1\n",
    "    reps = repeat(t.arange(len(w)), 'w -> h w', h = outlen)\n",
    "    reps += t.arange(outlen)[:, None]\n",
    "    return einsum(\"...ij, ...j -> ...i\", [v[reps], w])\n"
   ]
  },
  {
   "cell_type": "code",
   "execution_count": 143,
   "metadata": {},
   "outputs": [
    {
     "data": {
      "text/plain": [
       "tensor([ 83, 120,  78,  35,  -8,  10])"
      ]
     },
     "execution_count": 143,
     "metadata": {},
     "output_type": "execute_result"
    }
   ],
   "source": [
    "convolve(t.tensor([4, 5, 23, 23, 3, 2, -5, 6]), t.tensor([1, 2, 3]))"
   ]
  },
  {
   "cell_type": "code",
   "execution_count": null,
   "metadata": {},
   "outputs": [],
   "source": [
    "def convolve_fancy(v, w):\n",
    "    outlen = v.shape[-1] - w.shape[-1] + 1\n",
    "    reps = repeat(t.arange(len(w)), 'w -> h w', h = outlen)\n",
    "    reps += t.arange(outlen)[:, None]\n",
    "    return einsum(\"...ij, ...j -> ...i\", [v[reps], w])"
   ]
  },
  {
   "cell_type": "code",
   "execution_count": 144,
   "metadata": {},
   "outputs": [
    {
     "data": {
      "text/plain": [
       "tensor([[-0.9211, -1.6007,  0.3251],\n",
       "        [-0.2179, -0.4691,  0.6289],\n",
       "        [-0.2132,  0.5033,  1.6385]])"
      ]
     },
     "execution_count": 144,
     "metadata": {},
     "output_type": "execute_result"
    }
   ],
   "source": [
    "x = torch.randn(3, 3)\n",
    "x"
   ]
  },
  {
   "cell_type": "code",
   "execution_count": 150,
   "metadata": {},
   "outputs": [
    {
     "data": {
      "text/plain": [
       "tensor([[-0.9211, -1.6007,  0.3251, -0.2179, -0.4691],\n",
       "        [-1.6007,  0.3251, -0.2179, -0.4691,  0.6289]])"
      ]
     },
     "execution_count": 150,
     "metadata": {},
     "output_type": "execute_result"
    }
   ],
   "source": [
    "x.as_strided((2, 5), (1, 1))"
   ]
  },
  {
   "cell_type": "code",
   "execution_count": 183,
   "metadata": {},
   "outputs": [],
   "source": [
    "def convolve_fancy(v, w):\n",
    "    batch_size, in_chans, seq_len = v.shape\n",
    "    outlen = seq_len - w.shape[-1] + 1\n",
    "    u = v.as_strided((batch_size, outlen, in_chans, w.shape[-1]), (in_chans * seq_len, 1, seq_len, 1))\n",
    "    return einsum(\"...tik, oik -> ...ot\", [u, w])"
   ]
  },
  {
   "cell_type": "code",
   "execution_count": 186,
   "metadata": {},
   "outputs": [
    {
     "name": "stdout",
     "output_type": "stream",
     "text": [
      "tensor([[0.8000, 0.1375, 0.1684, 0.3943],\n",
      "        [0.3807, 0.9407, 0.0206, 0.6891]])\n",
      "tensor([[[1., 1.],\n",
      "         [1., 1.]]])\n"
     ]
    },
    {
     "data": {
      "text/plain": [
       "tensor([[[2.2589, 1.2672, 1.2724]]])"
      ]
     },
     "execution_count": 186,
     "metadata": {},
     "output_type": "execute_result"
    }
   ],
   "source": [
    "v = t.rand((2, 4))\n",
    "print(v)\n",
    "w = (t.rand(1, 2, 2) > 0.5).to(t.float)\n",
    "print(w)\n",
    "convolve_fancy(v[None, :], w)"
   ]
  },
  {
   "cell_type": "code",
   "execution_count": 187,
   "metadata": {},
   "outputs": [
    {
     "data": {
      "text/plain": [
       "tensor([[[2.2589, 1.2672, 1.2724]]])"
      ]
     },
     "execution_count": 187,
     "metadata": {},
     "output_type": "execute_result"
    }
   ],
   "source": [
    "def ex21(x, weight):\n",
    "    x = rearrange(x, \"b c s -> b s c\")\n",
    "    out_channels, _, kernel_size = weight.shape\n",
    "    B, S, C = x.shape\n",
    "    x = x.contiguous()\n",
    "    strided_input = torch.as_strided(x, (B, S - kernel_size + 1, kernel_size, C, out_channels), (S * C, C, C, 1, 0), 0)\n",
    "    weight_rearranged = rearrange(weight, \"o i k -> k i o\")\n",
    "    added = strided_input * weight_rearranged\n",
    "    summed = reduce(added, \"b s c in_channels out_channels -> b s out_channels\", \"sum\")\n",
    "    summed = rearrange(summed, \"b s c->b c s\")\n",
    "    return summed\n",
    "\n",
    "ex21(v.unsqueeze(0), w)"
   ]
  },
  {
   "cell_type": "code",
   "execution_count": 198,
   "metadata": {},
   "outputs": [],
   "source": [
    "def convolve_fanciest(v, w, padding = 0, stride = 1):\n",
    "    batch_size, in_chans, seq_len = v.shape\n",
    "    kernel_size = w.shape[-1]\n",
    "    outlen = int((seq_len - kernel_size + padding * 2)/stride + 1)\n",
    "    v = t.cat([t.zeros(batch_size, in_chans, padding), v, t.zeros(batch_size, in_chans, padding)], dim = -1)\n",
    "    u = v.as_strided((batch_size, outlen, in_chans, kernel_size), (in_chans * seq_len, stride, seq_len, 1))\n",
    "    return einsum(\"...tik, oik -> ...ot\", [u, w])"
   ]
  },
  {
   "cell_type": "code",
   "execution_count": 201,
   "metadata": {},
   "outputs": [
    {
     "data": {
      "text/plain": [
       "tensor([[[0.0000, 0.0000, 0.0000, 0.9375, 0.5627, 0.9375, 0.5627, 0.0000,\n",
       "          0.0000, 0.0000, 0.0000, 0.0000]]])"
      ]
     },
     "execution_count": 201,
     "metadata": {},
     "output_type": "execute_result"
    }
   ],
   "source": [
    "convolve_fanciest(v.unsqueeze(0), w, padding = 10, stride =2)"
   ]
  },
  {
   "cell_type": "code",
   "execution_count": null,
   "metadata": {},
   "outputs": [],
   "source": [
    "convolve_fanciest()"
   ]
  }
 ],
 "metadata": {
  "interpreter": {
   "hash": "e7370f93d1d0cde622a1f8e1c04877d8463912d04d973331ad4851f04de6915a"
  },
  "kernelspec": {
   "display_name": "Python 3.8.10 64-bit",
   "language": "python",
   "name": "python3"
  },
  "language_info": {
   "codemirror_mode": {
    "name": "ipython",
    "version": 3
   },
   "file_extension": ".py",
   "mimetype": "text/x-python",
   "name": "python",
   "nbconvert_exporter": "python",
   "pygments_lexer": "ipython3",
   "version": "3.8.10"
  },
  "orig_nbformat": 4
 },
 "nbformat": 4,
 "nbformat_minor": 2
}
