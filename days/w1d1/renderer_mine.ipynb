{
 "cells": [
  {
   "cell_type": "markdown",
   "metadata": {},
   "source": [
    "# Nikola and Pranav"
   ]
  },
  {
   "cell_type": "markdown",
   "metadata": {},
   "source": [
    "### Introduction"
   ]
  },
  {
   "cell_type": "markdown",
   "metadata": {},
   "source": [
    "To warm up in PyTorch, we're making a pretty project with lots of batched linear operations: Triangle Rendering!"
   ]
  },
  {
   "cell_type": "markdown",
   "metadata": {},
   "source": [
    "We'll actually start with doing a bit of rendering from 2d to 1d to simplify (instead of 3d to 2d). After that, we're going to render a binary 'is there a triangle at this pixel?' for one triangle, render all the triangles at once in a batch, and then combine them, and then more than just binary 'is there a triangle?'.\n",
    "\n",
    "\n",
    "Here's our model of the world: the \"camera\" is a point with a grid of lines pointing out of it - each of these corresponds to one pixel in the camera's image. Out there are a bunch of triangles, each specified by three points. In order to find the color of each pixel, we'll check whether the line coming from the camera intersects with the area of any of the the triangles. Then we can color the pixel based on some information about that triangle that the line hit."
   ]
  },
  {
   "cell_type": "markdown",
   "metadata": {},
   "source": [
    "![image](https://www.scratchapixel.com/images/upload/rasterization/raytracing-raster.png?)"
   ]
  },
  {
   "cell_type": "markdown",
   "metadata": {},
   "source": [
    "### Before we render 2d images, lets render 1d images\n",
    "\n",
    "Here, instead of checking whether a 2d grid of rays intersects with triangles, we will check whether a 1d fan of rays intersects with lines.\n",
    "\n",
    "We will use 3 dimensions, but the last dimension will always be 0 for now. Let's have our camera at (0,0,0), and its rays will be ((0,0,0), (1, -1, 0)), (0,0,0), (1, -0.9, 0)), ect.\n",
    "\n",
    "Make the function\n",
    "```\n",
    "make_rays_1d(width_pixels: int, fov_ratio)\n",
    "->\n",
    "FloatTensor[width_pixels (number of rays), 2 (origin and direction), 3 (scalars per point)]\n",
    "```\n",
    "that creates rays going from the camera (origin) in each pixel direction. fov_ratio means \"how far to the left/right can I see 1 unit away from the camera?\". At fov_ratio=1, you can see 1-unit to the left at 1 unit away, and so on.\n",
    "\n",
    "Once you think you've made it correctly, run the `render_lines_with_pyplot` function we provide on your rays tensor with 10 rays and an fov_ratio of 10. Note that you should convert from origin and direction to lines segments with start points and endpoints for `render_lines_with_pyplot`. It won't make any difference here because the origin is at (0, 0, 0), but it's good to be in habit of using the correct units/types. It should look like this: ![image.png](attachment:image.png)."
   ]
  },
  {
   "cell_type": "code",
   "execution_count": null,
   "metadata": {},
   "outputs": [],
   "source": [
    "import torch as t\n",
    "import einops\n",
    "from mpl_toolkits.mplot3d.axes3d import Axes3D\n",
    "import matplotlib.pyplot as plt\n",
    "from ipywidgets import interact\n",
    "\n",
    "def render_lines_with_pyplot(lines):\n",
    "    fig, ax = plt.subplots(subplot_kw={'projection': '3d'})\n",
    "\n",
    "    for line in lines:\n",
    "        # dimension ordering is so ray fan displays nicely\n",
    "        ax.plot(line[:,1].numpy(), line[:,0].numpy(), line[:,2].numpy())\n",
    "\n",
    "    plt.show()"
   ]
  },
  {
   "cell_type": "code",
   "execution_count": null,
   "metadata": {},
   "outputs": [],
   "source": [
    "def make_rays_1d(W, fov_ratio):\n",
    "    ..."
   ]
  },
  {
   "cell_type": "markdown",
   "metadata": {},
   "source": [
    "### Now let's check whether our camera rays intersect with our object lines\n",
    "\n",
    "This has two steps: find the point where the two (infinite euclidean) lines intersect by solving a linear equation, and then check whether that point is inside the line segment and the ray.\n",
    "\n",
    "\n",
    "Our camera ray is defined by the origin $O$ and direction $D$ and our object line is defined by points $L_1$ and $L_2$.\n",
    "\n",
    "We can write the equations for all points on the camera ray as $R(u)=O +u D$ for $u \\in [0, \\infty)$ and on the object line as $O(v)=L_1+v(L_2 - L_1)$ for $v \\in [0, 1]$."
   ]
  },
  {
   "cell_type": "code",
   "execution_count": null,
   "metadata": {},
   "outputs": [
    {
     "data": {
      "application/vnd.jupyter.widget-view+json": {
       "model_id": "24e6edcddb1344e49cd4e175d81280b6",
       "version_major": 2,
       "version_minor": 0
      },
      "text/plain": [
       "interactive(children=(FloatSlider(value=0.0, description='v', max=2.0, min=-2.0), IntSlider(value=5, descripti…"
      ]
     },
     "metadata": {},
     "output_type": "display_data"
    }
   ],
   "source": [
    "@interact\n",
    "def line(v=(-2.0, 2.0), seed=(0, 10)):\n",
    "    t.manual_seed(seed)\n",
    "    L_1 = t.randn(2)\n",
    "    L_2 = t.randn(2)\n",
    "    P = lambda v : L_1 + v * (L_2 - L_1)\n",
    "    x, y = zip(P(-2), P(2))\n",
    "    plt.plot(x, y, 'g-')\n",
    "    plt.plot(*L_1, 'ro', markersize=12)\n",
    "    plt.plot(*L_2, 'ro', markersize=12)\n",
    "    plt.plot(P(v)[0], P(v)[1], '*', markersize=12)"
   ]
  },
  {
   "cell_type": "markdown",
   "metadata": {},
   "source": [
    "Setting the line equations from above equal:\n",
    "\n",
    "\\begin{align}\n",
    "O + u D &= L_1 + v(L_2 - L_1) \\\\\n",
    "u D - v(L_2 - L_1) &= L_1 - O  \\\\\n",
    "\\begin{pmatrix}\n",
    "D_x & (L_1 - L_2)_x \\\\\n",
    "D_y & (L_1 - L_2)_y \\\\\n",
    "\\end{pmatrix}\n",
    "\\begin{pmatrix}\n",
    "u \\\\\n",
    "v \\\\\n",
    "\\end{pmatrix}\n",
    "&= \n",
    "\\begin{pmatrix}\n",
    "(L_1 - O)_x \\\\\n",
    "(L_1 - O)_y \\\\\n",
    "\\end{pmatrix}\n",
    "\\end{align}\n",
    "\n",
    "\n",
    "Once we've found values of $u$ and $v$ which satisfy this equation (if any, the lines could be parallel) we just need to check that $u \\geq 0$ and $v \\in [0, 1]$.\n",
    "\n",
    "Here are some objects:"
   ]
  },
  {
   "cell_type": "code",
   "execution_count": null,
   "metadata": {},
   "outputs": [
    {
     "data": {
      "text/plain": [
       "torch.Size([3, 2, 3])"
      ]
     },
     "execution_count": 4,
     "metadata": {},
     "output_type": "execute_result"
    }
   ],
   "source": [
    "def get_objects(n, seed=8):\n",
    "    t.manual_seed(seed)\n",
    "    xys = t.rand(n, 2, 2)\n",
    "    xys[:,:,1]-=0.5\n",
    "    xys[:,:,1]*=10\n",
    "    return t.cat([xys, t.zeros(n, 2, 1)], dim=2)\n",
    "\n",
    "objects = get_objects(3)\n",
    "\n",
    "objects.size()"
   ]
  },
  {
   "cell_type": "markdown",
   "metadata": {},
   "source": [
    "Render the camera lines from earlier together with the object lines using the `render_lines_with_pyplot`. This can be done in one line of code."
   ]
  },
  {
   "cell_type": "code",
   "execution_count": null,
   "metadata": {},
   "outputs": [
    {
     "data": {
      "text/plain": [
       "Ellipsis"
      ]
     },
     "execution_count": 5,
     "metadata": {},
     "output_type": "execute_result"
    }
   ],
   "source": [
    "..."
   ]
  },
  {
   "cell_type": "markdown",
   "metadata": {},
   "source": [
    "Using `torch.linalg.solve` and `torch.stack`, write the function\n",
    "```\n",
    "intersect_ray_1d(ray, obj) -> bool\n",
    "```\n",
    "which returns true if the ray and object intersect.\n",
    "\n",
    "Keep in mind that your code only needs to work when then the z-dim is 0 (you can also assume that rays and objects aren't parallel).\n",
    "\n",
    "Sanity check your function on a few rays using the image you made above as a reference."
   ]
  },
  {
   "cell_type": "code",
   "execution_count": null,
   "metadata": {},
   "outputs": [],
   "source": [
    "def intersect_ray_1d(ray, obj):\n",
    "    ..."
   ]
  },
  {
   "cell_type": "markdown",
   "metadata": {},
   "source": [
    "Now let's batch process rays and objects with the function \n",
    "```\n",
    "intersect_rays_1d(rays, objs) -> BoolTensor[num rays]\n",
    "```\n",
    "Where the output is true if there is some object which intersects with that ray. You'll probably want to use `einops.repeat`. This should look very similar to the non-batch version. If you'd like, you can also modify your non-batch function to handle either case."
   ]
  },
  {
   "cell_type": "code",
   "execution_count": null,
   "metadata": {},
   "outputs": [],
   "source": [
    "def intersect_rays_1d(rays, objs):\n",
    "    ..."
   ]
  },
  {
   "cell_type": "code",
   "execution_count": null,
   "metadata": {},
   "outputs": [],
   "source": [
    "# print(intersect_rays_1d(rays, objects))\n",
    "# should be tensor([False, False,  True,  True,  True,  True,  True,  True, False, False])\n",
    "# See your image with rays and objects above to check this makes sense."
   ]
  },
  {
   "cell_type": "markdown",
   "metadata": {},
   "source": [
    "### Now, lets generate a 2d grid of camera rays (back to 2d images)\n",
    "\n",
    "Make a function\n",
    "\n",
    "```\n",
    "make_rays_2d(width_pixels: int, height_pixels: int, h_aspect_ratio = 0.3, w_aspect_ratio = 0.3)\n",
    "->\n",
    "FloatTensor[width_pixels * height_pixels (number of lines), 2 (origin and direction), 3 (scalars per point)]\n",
    "```\n",
    "that creates rays going from the camera (origin) in each pixel direction. h_aspect_ratio means \"how wide of a thing that's 1 unit away can I see?\". at h_aspect_ratio=1, you can see 1-unit-wide things that are 1 unit away, and so on.\n",
    "\n",
    "Once you think you've made it correctly, run the `render_lines_with_pyplot` function we provide on your lines tensor. It should look like a bunch of evenly spaced lines in a pyramid."
   ]
  },
  {
   "cell_type": "code",
   "execution_count": null,
   "metadata": {},
   "outputs": [],
   "source": [
    "def make_rays_2d(W, H, width_scale=0.3, height_scale=0.3):\n",
    "    ..."
   ]
  },
  {
   "cell_type": "markdown",
   "metadata": {},
   "source": [
    "### Triangle coordinates"
   ]
  },
  {
   "cell_type": "markdown",
   "metadata": {},
   "source": [
    "Analogously to a line, the area inside a triangle can be defined by three (non-colinear) points $A$, $B$ and $C$, and can be written algebraically as:\n",
    "\n",
    "$$P(w, u, v) = wA + uB + vC$$\n",
    "$$s.t.$$\n",
    "$$0 \\leq w,u,v$$\n",
    "$$w + u + v = 1$$\n",
    "\n",
    "Or equivalently:\n",
    "\n",
    "$$P(u, v) = (1 - u - v)A + uB + vC =$$\n",
    "$$P(u, v) = A + u(B - A) + v(C - A)$$\n",
    "$$s.t.$$\n",
    "$$0 \\leq u,v$$\n",
    "$$u + v \\leq 1$$\n",
    "\n",
    "These $u, v$ are called \"barycentric coordinates\"."
   ]
  },
  {
   "cell_type": "markdown",
   "metadata": {},
   "source": [
    "If we remove the bounds on $u$ and $v$, we get an equation for the plane containing the triangle."
   ]
  },
  {
   "cell_type": "code",
   "execution_count": null,
   "metadata": {},
   "outputs": [
    {
     "data": {
      "image/png": "[encoded data removed]",
      "text/plain": [
       "<Figure size 432x288 with 1 Axes>"
      ]
     },
     "metadata": {
      "needs_background": "light"
     },
     "output_type": "display_data"
    }
   ],
   "source": [
    "one_triangle = t.Tensor([[0, 0, 0], [3, 0.5, 0], [2, 3, 0]])\n",
    "\n",
    "@interact\n",
    "def triangle(u=(-1.0, 2.0), v=(-1.0, 2.0)):\n",
    "    A = one_triangle[0]\n",
    "    B = one_triangle[1]\n",
    "    C = one_triangle[2]\n",
    "    for p in (A, B, C):\n",
    "        plt.plot(p[0], p[1], 'ro', markersize=12)\n",
    "    for p, q in ((A,B),(B,C),(C,A)):\n",
    "        x, y, _ = zip(p, q)\n",
    "        plt.plot(x, y, 'g-')\n",
    "    P = A + u*(B-A) + v*(C-A)\n",
    "    plt.plot(P[0], P[1], '*', markersize=12)\n"
   ]
  },
  {
   "cell_type": "markdown",
   "metadata": {},
   "source": [
    "### Triangle-ray intersection"
   ]
  },
  {
   "cell_type": "markdown",
   "metadata": {},
   "source": [
    "We'll consider a ray (not a line segment) with origin $O$ and direction $D$.\n",
    "Our intersection algorithm will  consist of two steps:\n",
    "* Finding the intersection between the line and the plane containing the triangle, by solving the equation $P(s) = P(u, v)$;\n",
    "* Checking if $u$ and $v$ are within the bounds of the triangle."
   ]
  },
  {
   "cell_type": "markdown",
   "metadata": {},
   "source": [
    "Expanding the equation $P(s) = P(u, v)$, we have:"
   ]
  },
  {
   "cell_type": "markdown",
   "metadata": {},
   "source": [
    "$$O + sD = A + u(B - A) + v(C - A) \\Rightarrow$$\n",
    "\n",
    "\\begin{gather}\n",
    "\\Rightarrow\n",
    "\\begin{pmatrix}\n",
    "-D & (B - A) & (C - A) \\\\\n",
    "\\end{pmatrix}\n",
    "\\begin{pmatrix}\n",
    "s \\\\\n",
    "u \\\\\n",
    "v \n",
    "\\end{pmatrix}\n",
    "=\n",
    "\\begin{pmatrix}\n",
    "(O - A)\n",
    "\\end{pmatrix}\n",
    "\\Rightarrow\n",
    "\\end{gather}\n",
    "\n",
    "\\begin{gather}\n",
    "\\Rightarrow\n",
    "\\begin{pmatrix}\n",
    "-D_x & (B - A)_x & (C - A)_x \\\\\n",
    "-D_y & (B - A)_y & (C - A)_y \\\\\n",
    "-D_z & (B - A)_z & (C - A)_z \\\\\n",
    "\\end{pmatrix}\n",
    "\\begin{pmatrix}\n",
    "s \\\\\n",
    "u \\\\\n",
    "v \n",
    "\\end{pmatrix}\n",
    "=\n",
    "\\begin{pmatrix}\n",
    "(O - A)_x \\\\\n",
    "(O - A)_y \\\\\n",
    "(O - A)_z \\\\\n",
    "\\end{pmatrix}\n",
    "\\end{gather}"
   ]
  },
  {
   "cell_type": "markdown",
   "metadata": {},
   "source": [
    "We can therefore find the coordinates `s`, `u`, `v` of the intersection point by solving the linear system above."
   ]
  },
  {
   "cell_type": "code",
   "execution_count": null,
   "metadata": {},
   "outputs": [],
   "source": [
    "import numpy as np\n",
    "import torch as t\n",
    "import matplotlib.pyplot as plt"
   ]
  },
  {
   "cell_type": "markdown",
   "metadata": {},
   "source": [
    "Again using `torch.linalg.solve` and `torch.stack`, write a function `triangle_line_intersects(A, B, C, O, D)` that receives a single triangle's vertices `A`, `B`, `C`; a line's point `O` and direction `D` (all as torch tensors of shape `[3]`); and returns a boolean value as to whether they intersect or not. This can be done reasonably in two lines of code."
   ]
  },
  {
   "cell_type": "code",
   "execution_count": null,
   "metadata": {},
   "outputs": [],
   "source": [
    "def triangle_line_intersects(A, B, C, O, D):\n",
    "    ..."
   ]
  },
  {
   "cell_type": "markdown",
   "metadata": {},
   "source": [
    "*Optional: the suggested implementation will fail if the line is parallel to the triangle's plane. Think of simple ways for making an implementation that covers this case.*"
   ]
  },
  {
   "cell_type": "markdown",
   "metadata": {},
   "source": [
    "### Camera"
   ]
  },
  {
   "cell_type": "markdown",
   "metadata": {},
   "source": [
    "To define our field of vision, we will use the abstraction of a `Camera`, defining the origin and direction of the light rays, and a viewport resolution."
   ]
  },
  {
   "cell_type": "code",
   "execution_count": null,
   "metadata": {},
   "outputs": [],
   "source": [
    "def normalize(x):\n",
    "  return x / t.sqrt(t.sum(x**2, dim=-1, keepdim=True))\n",
    "\n",
    "def _get_rotation(forward):\n",
    "  forward = normalize(forward)\n",
    "  right = t.cross(t.tensor([0.0, 1.0, 0.0]), forward)\n",
    "  up = t.cross(forward, right)\n",
    "  R = normalize(t.stack([right, up, forward], axis=0))\n",
    "  def rotate(x):\n",
    "    return t.einsum('ij,...i->...j', R, x)\n",
    "  return rotate\n",
    "\n",
    "class Camera:\n",
    "  def __init__(self, *, origin=None, direction=None, target=None, height=60, width=50):\n",
    "    if origin is None:\n",
    "      origin = t.zeros(3)\n",
    "    if direction is None:\n",
    "      direction = t.tensor([0.0, 0.0, 1.0])\n",
    "    if target is not None:\n",
    "      direction = target - origin\n",
    "\n",
    "    self.origin = origin\n",
    "    self.height = height\n",
    "    self.width = width\n",
    "    self.direction = normalize(direction)\n",
    "    self.x_angle = np.pi / 4\n",
    "\n",
    "  def pixel_rays(self):\n",
    "    H = self.height\n",
    "    W = self.width\n",
    "    x_bound = np.tan(self.x_angle / 2)\n",
    "    y_bound = H/W * x_bound\n",
    "\n",
    "    viewport_grid = t.ones(H, W, 3)\n",
    "    viewport_grid[t.arange(H), :, 1] = t.linspace(-y_bound, y_bound, H)[:, None]\n",
    "    viewport_grid[:, t.arange(W), 0] = t.linspace(-x_bound, x_bound, W)\n",
    "    D = _get_rotation(self.direction)(viewport_grid)\n",
    "    D = normalize(D)\n",
    "    return D"
   ]
  },
  {
   "cell_type": "markdown",
   "metadata": {},
   "source": [
    "### Single-triangle rendering"
   ]
  },
  {
   "cell_type": "markdown",
   "metadata": {},
   "source": [
    "For raytracing a triangle, we will simply check for triangle-line intersections for all light rays at once."
   ]
  },
  {
   "cell_type": "markdown",
   "metadata": {},
   "source": [
    "Implement a function `raytrace_triangle(triangle, camera)` that receives a `triangle` (a tensor of size `[3, 3]`) and a `camera` object, and returns a tensor with each entry corresponding to the presence of a triangle on that pixel (1 if there is a triangle, and 0 otherwise). Use a single batch call to `torch.linalg.solve`. Visualize the result with `plt.imshow`.\n",
    "* Your function is expected to look similar to `triangle_line_intersects`, with some preprocessing and postprocessing around the call to `solve`.\n",
    "* It is suggested to use `einops.reshape` and `einops.repeat` to process tensor shapes.\n"
   ]
  },
  {
   "cell_type": "code",
   "execution_count": null,
   "metadata": {},
   "outputs": [],
   "source": [
    "def raytrace_triangle(triangle, camera):\n",
    "    ..."
   ]
  },
  {
   "cell_type": "markdown",
   "metadata": {},
   "source": [
    "### Mesh rendering"
   ]
  },
  {
   "cell_type": "markdown",
   "metadata": {},
   "source": [
    "For raytracing a mesh, we will find the intersection points for all pixel rays and all triangles at once."
   ]
  },
  {
   "cell_type": "code",
   "execution_count": null,
   "metadata": {},
   "outputs": [
    {
     "name": "stdout",
     "output_type": "stream",
     "text": [
      "\u001b[33mWARNING: You are using pip version 20.2.4; however, version 21.3.1 is available.\n",
      "You should consider upgrading via the '/bin/python3 -m pip install --upgrade pip' command.\u001b[0m\n"
     ]
    }
   ],
   "source": [
    "!pip install -q numpy-stl"
   ]
  },
  {
   "cell_type": "code",
   "execution_count": null,
   "metadata": {},
   "outputs": [],
   "source": [
    "!wget -O pikachu-flowalistik.STL -q https://cdn.thingiverse.com/assets/80/10/f0/76/fb/pikachu_1gen_flowalistik.STL"
   ]
  },
  {
   "cell_type": "code",
   "execution_count": null,
   "metadata": {},
   "outputs": [],
   "source": [
    "from stl import mesh\n",
    "model = mesh.Mesh.from_file('pikachu-flowalistik.STL')\n",
    "triangles = t.tensor(model.vectors.copy())\n",
    "triangles[:, :, [2, 0, 1]] = triangles.clone()\n",
    "\n",
    "# center the mesh at (0, 0, 0)\n",
    "mesh_center = triangles.mean(dim=(0, 1))\n",
    "triangles -= mesh_center"
   ]
  },
  {
   "cell_type": "markdown",
   "metadata": {},
   "source": [
    "Step: implement a function `raytrace_mesh(triangles, camera)` that receives the `triangles` of a mesh (a tensor of size `[T, 3, 3]`) and a `camera` object, and returns a tensor with the distance to the mesh at that pixel (let the distance be infinite if there is no intersection); Use a single batch call to `torch.linalg.solve`. Visualize the result with `plt.imshow`.\n",
    "* Your function is expected to look similar to `raytrace_triangle`.\n",
    "* Target the camera towards (0, 0, 0) which is the average position of all triangle vertices due to the centering code in the cell above.\n",
    "\n",
    "You might end up getting errors like 'the solve could not be completed because the input matrix is singular' on this next part or later if the camera position happens to produce a ray which is parallel to a triangle.\n",
    "Don't worry about this unless it comes up. You can fix this issue by checking which matrices are singular, replacing these matrices with the identity, and then requiring that the matrix was non-singular for there to be an intersection. (Hint: how can you cheaply check if a matrix is singular?)"
   ]
  },
  {
   "cell_type": "code",
   "execution_count": null,
   "metadata": {},
   "outputs": [],
   "source": [
    "def raytrace_mesh(triangles, camera):\n",
    "    ..."
   ]
  },
  {
   "cell_type": "markdown",
   "metadata": {},
   "source": [
    "### Vectorizing it further"
   ]
  },
  {
   "cell_type": "code",
   "execution_count": null,
   "metadata": {},
   "outputs": [
    {
     "name": "stdout",
     "output_type": "stream",
     "text": [
      "\u001b[33mWARNING: You are using pip version 20.2.4; however, version 21.3.1 is available.\n",
      "You should consider upgrading via the '/bin/python3 -m pip install --upgrade pip' command.\u001b[0m\n"
     ]
    }
   ],
   "source": [
    "!pip install -q mediapy"
   ]
  },
  {
   "cell_type": "code",
   "execution_count": null,
   "metadata": {},
   "outputs": [],
   "source": [
    "from PIL import Image\n",
    "import mediapy as media"
   ]
  },
  {
   "cell_type": "markdown",
   "metadata": {},
   "source": [
    "We can just keep vectorizing! We will now make a video rotating around our model mesh."
   ]
  },
  {
   "cell_type": "markdown",
   "metadata": {},
   "source": [
    "Write a function `multirender_mesh(triangles, camera, origins)`, behaving similar to `render_mesh`, with the change that it accepts a parameter `origins`, corresponding to different positions of the camera, and returns the distances to the model for each origin and pixel. Use a single call to `torch.linalg.solve`. Use this function to make a video rotating around the model. You can use [media.show_video](https://google.github.io/mediapy/#mediapy.show_video) to display the video in a notebook. The easiest way to do this is probably to render each frame with matplotlib to an image file, load each image file using `Image`, and then pass all the images to `media.show_video`. \n",
    "\n",
    "This might end up taking a while to run. Be careful not to use too much RAM! \n",
    "\n",
    "_Optional: run the rendering on the GPU and try to make it faster. Also consider playing around with other meshes._"
   ]
  },
  {
   "cell_type": "code",
   "execution_count": null,
   "metadata": {},
   "outputs": [],
   "source": [
    "def multirender_mesh(triangles, camera, origins):\n",
    "    ...\n"
   ]
  },
  {
   "cell_type": "markdown",
   "metadata": {},
   "source": [
    "### Optional extensions\n",
    "\n",
    "1. Allow for triangles to have RGB values and render a colored image.\n",
    "2. We've been using a single ray to sample the scene and determine the color of a pixel. This can result in the image having pixelated boundaries. Really, a pixel is a 2d square subsection of the overall image and should consist of the average ray color over this subsection: \n",
    "\n",
    "![image.png](attachment:image.png)\n",
    "\n",
    "\n",
    "Allow for randomly sampling some number of rays for each pixel. Alternatively, subsample some number of rays per pixel in a grid.\n",
    "\n",
    "\n",
    "3. Instead of uniformly illuminating each triangle, allow for specifying a few point light source and use the [Phong reflection model (BRDF)](https://en.wikipedia.org/wiki/Phong_reflection_model) for illumination (ignore shadows). Note that this is conceptually more complex and requires thinking about concepts we haven't covered here!"
   ]
  }
 ],
 "metadata": {
  "colab": {
   "name": "w1d1-Vectorized_Triangle_Mesh_Raytracing.ipynb",
   "provenance": []
  },
  "kernelspec": {
   "display_name": "Python 3",
   "language": "python",
   "name": "python3"
  },
  "language_info": {
   "codemirror_mode": {
    "name": "ipython",
    "version": 3
   },
   "file_extension": ".py",
   "mimetype": "text/x-python",
   "name": "python",
   "nbconvert_exporter": "python",
   "pygments_lexer": "ipython3",
   "version": "3.8.10"
  },
  "widgets": {
   "application/vnd.jupyter.widget-state+json": {
    "13367c1e56214d8da030d678dad65b76": {
     "model_module": "@jupyter-widgets/controls",
     "model_module_version": "1.5.0",
     "model_name": "SliderStyleModel",
     "state": {
      "_model_module": "@jupyter-widgets/controls",
      "_model_module_version": "1.5.0",
      "_model_name": "SliderStyleModel",
      "_view_count": null,
      "_view_module": "@jupyter-widgets/base",
      "_view_module_version": "1.2.0",
      "_view_name": "StyleView",
      "description_width": "",
      "handle_color": null
     }
    },
    "139321ff654e428bbd1b1e8b7796ff79": {
     "model_module": "@jupyter-widgets/controls",
     "model_module_version": "1.5.0",
     "model_name": "SliderStyleModel",
     "state": {
      "_model_module": "@jupyter-widgets/controls",
      "_model_module_version": "1.5.0",
      "_model_name": "SliderStyleModel",
      "_view_count": null,
      "_view_module": "@jupyter-widgets/base",
      "_view_module_version": "1.2.0",
      "_view_name": "StyleView",
      "description_width": "",
      "handle_color": null
     }
    },
    "14bbbd03fa524f03822f6691dcd4f2b3": {
     "model_module": "@jupyter-widgets/base",
     "model_module_version": "1.2.0",
     "model_name": "LayoutModel",
     "state": {
      "_model_module": "@jupyter-widgets/base",
      "_model_module_version": "1.2.0",
      "_model_name": "LayoutModel",
      "_view_count": null,
      "_view_module": "@jupyter-widgets/base",
      "_view_module_version": "1.2.0",
      "_view_name": "LayoutView",
      "align_content": null,
      "align_items": null,
      "align_self": null,
      "border": null,
      "bottom": null,
      "display": null,
      "flex": null,
      "flex_flow": null,
      "grid_area": null,
      "grid_auto_columns": null,
      "grid_auto_flow": null,
      "grid_auto_rows": null,
      "grid_column": null,
      "grid_gap": null,
      "grid_row": null,
      "grid_template_areas": null,
      "grid_template_columns": null,
      "grid_template_rows": null,
      "height": null,
      "justify_content": null,
      "justify_items": null,
      "left": null,
      "margin": null,
      "max_height": null,
      "max_width": null,
      "min_height": null,
      "min_width": null,
      "object_fit": null,
      "object_position": null,
      "order": null,
      "overflow": null,
      "overflow_x": null,
      "overflow_y": null,
      "padding": null,
      "right": null,
      "top": null,
      "visibility": null,
      "width": null
     }
    },
    "1af49b03019040f08def559c89a56d6d": {
     "model_module": "@jupyter-widgets/controls",
     "model_module_version": "1.5.0",
     "model_name": "SliderStyleModel",
     "state": {
      "_model_module": "@jupyter-widgets/controls",
      "_model_module_version": "1.5.0",
      "_model_name": "SliderStyleModel",
      "_view_count": null,
      "_view_module": "@jupyter-widgets/base",
      "_view_module_version": "1.2.0",
      "_view_name": "StyleView",
      "description_width": "",
      "handle_color": null
     }
    },
    "26c0bd673e414b0895f444edb4298fe1": {
     "model_module": "@jupyter-widgets/controls",
     "model_module_version": "1.5.0",
     "model_name": "VBoxModel",
     "state": {
      "_dom_classes": [
       "widget-interact"
      ],
      "_model_module": "@jupyter-widgets/controls",
      "_model_module_version": "1.5.0",
      "_model_name": "VBoxModel",
      "_view_count": null,
      "_view_module": "@jupyter-widgets/controls",
      "_view_module_version": "1.5.0",
      "_view_name": "VBoxView",
      "box_style": "",
      "children": [
       "IPY_MODEL_a9c8e243c1af43f6abaf53f993b17895",
       "IPY_MODEL_388ef05fb9454299bc7a28ef9dc0362d",
       "IPY_MODEL_6e711a41b4ed423e98809810085d5a48"
      ],
      "layout": "IPY_MODEL_d4ae62ec4f174d88b11ef2ba15979db5"
     }
    },
    "313ea93631664c49bd6b24b2bde060a8": {
     "model_module": "@jupyter-widgets/controls",
     "model_module_version": "1.5.0",
     "model_name": "FloatSliderModel",
     "state": {
      "_dom_classes": [],
      "_model_module": "@jupyter-widgets/controls",
      "_model_module_version": "1.5.0",
      "_model_name": "FloatSliderModel",
      "_view_count": null,
      "_view_module": "@jupyter-widgets/controls",
      "_view_module_version": "1.5.0",
      "_view_name": "FloatSliderView",
      "continuous_update": true,
      "description": "v",
      "description_tooltip": null,
      "disabled": false,
      "layout": "IPY_MODEL_91ec1b66751247c2a3137258ffbc915d",
      "max": 2,
      "min": -1,
      "orientation": "horizontal",
      "readout": true,
      "readout_format": ".2f",
      "step": 0.1,
      "style": "IPY_MODEL_13367c1e56214d8da030d678dad65b76",
      "value": 0.5
     }
    },
    "388ef05fb9454299bc7a28ef9dc0362d": {
     "model_module": "@jupyter-widgets/controls",
     "model_module_version": "1.5.0",
     "model_name": "IntSliderModel",
     "state": {
      "_dom_classes": [],
      "_model_module": "@jupyter-widgets/controls",
      "_model_module_version": "1.5.0",
      "_model_name": "IntSliderModel",
      "_view_count": null,
      "_view_module": "@jupyter-widgets/controls",
      "_view_module_version": "1.5.0",
      "_view_name": "IntSliderView",
      "continuous_update": true,
      "description": "seed",
      "description_tooltip": null,
      "disabled": false,
      "layout": "IPY_MODEL_3e47bd09924e447fb15c26b78503086f",
      "max": 10,
      "min": 0,
      "orientation": "horizontal",
      "readout": true,
      "readout_format": "d",
      "step": 1,
      "style": "IPY_MODEL_9af2af3a6a464ab4883be2f869b05cee",
      "value": 5
     }
    },
    "3e47bd09924e447fb15c26b78503086f": {
     "model_module": "@jupyter-widgets/base",
     "model_module_version": "1.2.0",
     "model_name": "LayoutModel",
     "state": {
      "_model_module": "@jupyter-widgets/base",
      "_model_module_version": "1.2.0",
      "_model_name": "LayoutModel",
      "_view_count": null,
      "_view_module": "@jupyter-widgets/base",
      "_view_module_version": "1.2.0",
      "_view_name": "LayoutView",
      "align_content": null,
      "align_items": null,
      "align_self": null,
      "border": null,
      "bottom": null,
      "display": null,
      "flex": null,
      "flex_flow": null,
      "grid_area": null,
      "grid_auto_columns": null,
      "grid_auto_flow": null,
      "grid_auto_rows": null,
      "grid_column": null,
      "grid_gap": null,
      "grid_row": null,
      "grid_template_areas": null,
      "grid_template_columns": null,
      "grid_template_rows": null,
      "height": null,
      "justify_content": null,
      "justify_items": null,
      "left": null,
      "margin": null,
      "max_height": null,
      "max_width": null,
      "min_height": null,
      "min_width": null,
      "object_fit": null,
      "object_position": null,
      "order": null,
      "overflow": null,
      "overflow_x": null,
      "overflow_y": null,
      "padding": null,
      "right": null,
      "top": null,
      "visibility": null,
      "width": null
     }
    },
    "45473181d7aa4f2eb4d345447a15ce2d": {
     "model_module": "@jupyter-widgets/controls",
     "model_module_version": "1.5.0",
     "model_name": "VBoxModel",
     "state": {
      "_dom_classes": [
       "widget-interact"
      ],
      "_model_module": "@jupyter-widgets/controls",
      "_model_module_version": "1.5.0",
      "_model_name": "VBoxModel",
      "_view_count": null,
      "_view_module": "@jupyter-widgets/controls",
      "_view_module_version": "1.5.0",
      "_view_name": "VBoxView",
      "box_style": "",
      "children": [
       "IPY_MODEL_9b678cc13068422f9fec58a7a1373f87",
       "IPY_MODEL_313ea93631664c49bd6b24b2bde060a8",
       "IPY_MODEL_7c9b97928cbf48db93accfa02dcd46b3",
       "IPY_MODEL_f3c253cfa803478d88400377b7d08643"
      ],
      "layout": "IPY_MODEL_723f0d9002e4469aa8b4d9ff2876afd6"
     }
    },
    "4ccf0ea370d4499ba54b1f6edc27d9b0": {
     "model_module": "@jupyter-widgets/base",
     "model_module_version": "1.2.0",
     "model_name": "LayoutModel",
     "state": {
      "_model_module": "@jupyter-widgets/base",
      "_model_module_version": "1.2.0",
      "_model_name": "LayoutModel",
      "_view_count": null,
      "_view_module": "@jupyter-widgets/base",
      "_view_module_version": "1.2.0",
      "_view_name": "LayoutView",
      "align_content": null,
      "align_items": null,
      "align_self": null,
      "border": null,
      "bottom": null,
      "display": null,
      "flex": null,
      "flex_flow": null,
      "grid_area": null,
      "grid_auto_columns": null,
      "grid_auto_flow": null,
      "grid_auto_rows": null,
      "grid_column": null,
      "grid_gap": null,
      "grid_row": null,
      "grid_template_areas": null,
      "grid_template_columns": null,
      "grid_template_rows": null,
      "height": null,
      "justify_content": null,
      "justify_items": null,
      "left": null,
      "margin": null,
      "max_height": null,
      "max_width": null,
      "min_height": null,
      "min_width": null,
      "object_fit": null,
      "object_position": null,
      "order": null,
      "overflow": null,
      "overflow_x": null,
      "overflow_y": null,
      "padding": null,
      "right": null,
      "top": null,
      "visibility": null,
      "width": null
     }
    },
    "4efccee3c8f64234bb7e795e0592b51c": {
     "model_module": "@jupyter-widgets/base",
     "model_module_version": "1.2.0",
     "model_name": "LayoutModel",
     "state": {
      "_model_module": "@jupyter-widgets/base",
      "_model_module_version": "1.2.0",
      "_model_name": "LayoutModel",
      "_view_count": null,
      "_view_module": "@jupyter-widgets/base",
      "_view_module_version": "1.2.0",
      "_view_name": "LayoutView",
      "align_content": null,
      "align_items": null,
      "align_self": null,
      "border": null,
      "bottom": null,
      "display": null,
      "flex": null,
      "flex_flow": null,
      "grid_area": null,
      "grid_auto_columns": null,
      "grid_auto_flow": null,
      "grid_auto_rows": null,
      "grid_column": null,
      "grid_gap": null,
      "grid_row": null,
      "grid_template_areas": null,
      "grid_template_columns": null,
      "grid_template_rows": null,
      "height": null,
      "justify_content": null,
      "justify_items": null,
      "left": null,
      "margin": null,
      "max_height": null,
      "max_width": null,
      "min_height": null,
      "min_width": null,
      "object_fit": null,
      "object_position": null,
      "order": null,
      "overflow": null,
      "overflow_x": null,
      "overflow_y": null,
      "padding": null,
      "right": null,
      "top": null,
      "visibility": null,
      "width": null
     }
    },
    "5f17463600024991b1061318ffb273eb": {
     "model_module": "@jupyter-widgets/base",
     "model_module_version": "1.2.0",
     "model_name": "LayoutModel",
     "state": {
      "_model_module": "@jupyter-widgets/base",
      "_model_module_version": "1.2.0",
      "_model_name": "LayoutModel",
      "_view_count": null,
      "_view_module": "@jupyter-widgets/base",
      "_view_module_version": "1.2.0",
      "_view_name": "LayoutView",
      "align_content": null,
      "align_items": null,
      "align_self": null,
      "border": null,
      "bottom": null,
      "display": null,
      "flex": null,
      "flex_flow": null,
      "grid_area": null,
      "grid_auto_columns": null,
      "grid_auto_flow": null,
      "grid_auto_rows": null,
      "grid_column": null,
      "grid_gap": null,
      "grid_row": null,
      "grid_template_areas": null,
      "grid_template_columns": null,
      "grid_template_rows": null,
      "height": null,
      "justify_content": null,
      "justify_items": null,
      "left": null,
      "margin": null,
      "max_height": null,
      "max_width": null,
      "min_height": null,
      "min_width": null,
      "object_fit": null,
      "object_position": null,
      "order": null,
      "overflow": null,
      "overflow_x": null,
      "overflow_y": null,
      "padding": null,
      "right": null,
      "top": null,
      "visibility": null,
      "width": null
     }
    },
    "6e711a41b4ed423e98809810085d5a48": {
     "model_module": "@jupyter-widgets/output",
     "model_module_version": "1.0.0",
     "model_name": "OutputModel",
     "state": {
      "_dom_classes": [],
      "_model_module": "@jupyter-widgets/output",
      "_model_module_version": "1.0.0",
      "_model_name": "OutputModel",
      "_view_count": null,
      "_view_module": "@jupyter-widgets/output",
      "_view_module_version": "1.0.0",
      "_view_name": "OutputView",
      "layout": "IPY_MODEL_4efccee3c8f64234bb7e795e0592b51c",
      "msg_id": "",
      "outputs": [
       {
        "data": {
         "image/png": "iVBORw0KGgoAAAANSUhEUgAAAXIAAAD4CAYAAADxeG0DAAAABHNCSVQICAgIfAhkiAAAAAlwSFlzAAALEgAACxIB0t1+/AAAADh0RVh0U29mdHdhcmUAbWF0cGxvdGxpYiB2ZXJzaW9uMy4yLjIsIGh0dHA6Ly9tYXRwbG90bGliLm9yZy+WH4yJAAAgAElEQVR4nO3dd3QV5d7F8e8vCSUgTcAGSBELCZ1QFakCSlMQRaRJCRC81wIqvvZyvRYseCF0EKSJSEelSZeWUJOgUmwgSlAE6SXP+0fivQhBAjnJ5Jzsz1pnJZmZM7OfNcfNOJmZmHMOERHxX0FeBxARkfRRkYuI+DkVuYiIn1ORi4j4ORW5iIifC/Fio0WKFHGlSpXyYtMiIn4rNjZ2v3Ou6LnTPSnyUqVKERMT48WmRUT8lpl9n9p0nVoREfFzKnIRET+nIhcR8XPpLnIzK2FmS8wswczizewRXwQTEZG08cUvO08D/ZxzG8wsHxBrZgudcwk+WLeIiFxEuo/InXN7nXMbUr7/A9gGFEvvekVEJG18eo7czEoBVYC1qcyLNLMYM4tJTEz05WZFRLI1nxW5mV0BfAI86pw7dO5859wI51yEcy6iaNHzrmdPk2XfLeO9Ne9xJulMOtOKiAQOnxS5meUgucQnOuem+2KdqZkaP5XH5j/GbWNvIyFRp+BFRMA3V60YMBrY5px7J/2RLmzwXYOZcM8Etv+6nSrDq/DKslc4eeZkRm5SRCTL88UR+a1AJ6ChmW1Ked3lg/Wex8x4sOKDJPRNoE25Njy/9Hmqj6xOzE+63V9Esi9fXLWy0jlnzrmKzrnKKa9PfRHuQq7KexWT205mVvtZ7D+6n5qjavLkwic5eupoRm5WRCRL8us7O1vd3Ir4qHi6V+nOW1++RaVhlVj23TKvY4mIZCq/LnKAgrkLMqLlCBZ3XkySS6L+uPr0mduHQyfOu3BGRCQg+X2R/6lh6YZs6b2Fx2s9zogNIwiPDmfeN/O8jiUikuECpsgB8ubMy9tN3+bLbl9SIFcBWkxuQcfpHdl/dL/X0UREMkxAFfmfahavyYZeG3ih3gtMjZ9KuSHlmBI3Beec19FERHwuIIscIGdwTl6s/yKxkbGULliaBz55gNZTWrPn0B6vo4mI+FTAFvmfKlxdgdXdVzPwjoEs2rWIsOgwRsaO1NG5iASMgC9ygOCgYPrV6ceWPluoem1VIudG0mh8I3b+ttPraCIi6ZYtivxPZa8sy+LOixnRYgSxe2OpMLQC76x+Rw/hEhG/lq2KHCDIguhZrScJUQk0LtOYfgv6UWdMHeL2xXkdTUTksmS7Iv9TsfzFmNV+FpPbTmbXgV1UHV6VF5e+qIdwiYjfybZFDskP4Wpfvj3b+m6jXXg7Xlr2ElWHV2XdnnVeRxMRSbNsXeR/KpKnCBPbTGTOA3P4/fjv1B5dm37z++khXCLiF1TkZ2lxUwvio+LpWbUn76x5hwpDK7Dk2yVexxIR+Vsq8nMUyF2AYS2GsaTLEoIsiIbjGxI5J5KDxw96HU1EJFUq8guoX6o+m3tv5ok6TzB642jCosOY/fVsr2OJiJxHRf438uTIw5t3vMnaHmspHFqY1lNa035ae/Yd2ed1NBGR/1KRp0HEdRHERMbwcv2Xmb5tOmFDwpi4ZaJu8xeRLEFFnkY5g3PyXL3n2NhrI2WvLEvHGR1pObklPx780etoIpLNqcgvUfhV4azqtop3m77Lku+WEB4dzrCYYSS5JK+jiUg2pSK/DMFBwTxa61G29tlKjWI16DOvDw3HNWT7r9u9jiYi2ZCKPB3KFCrDwk4LGd1qNJt+3kTFYRV5a9VbnE467XU0EclGVOTpZGZ0q9KNhL4JNL2hKU8uepJao2qx+efNXkcTkWxCRe4j1+W7jhn3z2DqvVP58dCPRIyM4LkvnuPE6RNeRxORAKci9yEzo114OxKiEnig/AO8uuJVqgyvwuofV3sdTUQCmIo8AxTOU5jx94zn0w6fcvjkYW4dcyuPfv4oR04e8TqaiAQgFXkGuvPGO4mPiieqehSD1g6i/NDyLNq1yOtYIhJgVOQZLF+ufAy+azDLuy4nR1AO7vjwDrrP6s6BYwe8jiYiAUJFnknqlqzL5t6bGXDrAMZtHkdYdBgzts3wOpaIBAAVeSYKzRHKvxv/m7U91nJ13qtpM7UN9318H78c/sXraCLix3xS5GY2xsz2mZn+gnEaVLuuGut7rudfDf/FrK9nUW5IOcZvHq+HcInIZfHVEfkHQDMfrStbyBGcg/+r+39s7r2ZckXL0WVmF+6adBc/HPzB62gi4md8UuTOueXAb75YV3ZzS5FbWPHQCt5v9j4rvl9BeHQ4Q9YN0UO4RCTNMu0cuZlFmlmMmcUkJiZm1mb9QpAF8Y+a/yAuKo7axWvz8GcPU++Deny9/2uvo4mIH8i0InfOjXDORTjnIooWLZpZm/UrpQqWYn7H+YxtPZa4fXFUGlaJ11e+zqkzp7yOJiJZmK5ayWLMjK6Vu7Kt7zaa39Scpxc/Tc1RNdm4d6PX0UQki1KRZ1HXXHENn9z3CdPaTeOnP36i+sjqPLP4GY6fPu51NBHJYnx1+eFkYDVws5ntNrPuvlivQNuwtiT0TaBTpU68tvI1Kg+rzKofVnkdS0SyEF9dtfKAc+5a51wO51xx59xoX6xXkl0ZeiVjW49lfsf5HD99nLpj6/LPz/7J4ZOHvY4mIlmATq34kSY3NCEuKo6HazzM4HWDCY8OZ/6O+V7HEhGPqcj9zBU5r+D9O99nxUMrCA0JpdnEZnSd2ZXfjqVcxu8crF0L7dpB3rwQFJT89b77YN265PkiElDMi9vCIyIiXExMTKZvN9AcP32cV5e/yusrX6dIniJE3zGINq/PhNmz4fhxSDrrpqKgIAgNhZYtYfx4yJHDu+AiclnMLNY5F3HudB2R+7HcIbl5teGrxETGcN0V13K8Y3uOT/8Yjh79a4lD8s9HjsCsWdC5s47MRQKIijwAVL6mMusqDebeHTnIffLM3y987BjMmQPr12dOOBHJcCryABHy7iByXqzE/3TsGLz9dsYGEpFMoyIPFPPmnX865UKSkpKXF5GAoCIPFMeOZezyIpJlqcgDRWhoxi4vIlmWijxQNG+efIlhGpwx+K1RnQwOJCKZRUUeKPr1S/NR9okQaH71YgYsGsCxUzrFIuLvVOSBokaN5Jt9LlbmoaEE392G8OZdeWPVG1QeXpkV36/InIwikiFU5IHCLPmOzdat/3dr/tmCgiBPHmjdmlwTpzCq9WgWdlrIyTMnuf2D2+k7ry+HThzyJruIpIuKPJDkyAGTJsEXX0Dbtn991sq998LSpTB58n9vz29cpjFxfeJ4tOajDI0ZSvno8ny2/TNvxyAil0zPWhEAVv+4mh5zepCQmECnip14t+m7FM5T2OtYInIWPWtF/lbtErXZELmB525/jslxkyk3pBxT46fixT/0InJpVOTyX7lCcvFyg5eJjYzl+gLXc/+0+7nno3v46Y+fvI4mIn9DRS7nqXh1Rdb0WMObjd9k/s75hA0JY/SG0To6F8miVOSSqpCgEJ649Qm29N5CpWsq0WNODxp/2JhdB3Z5HU1EzqEil791Y+EbWdJlCcOaD2P9nvVUGFqB99a8x5mkND5pUUQynIpcLirIgugV0YuEvgk0KNWAx+Y/xq1jbiV+X7zX0UQEFblcguL5izPngTlMbDORHb/toMrwKryy7BVOnjnpdTSRbE1FLpfEzOhQoQPb+m6jbVhbnl/6PBEjIli/R39xSMQrKnK5LEXzFmVy28nMaj+LX4/9Sq3RtXhiwRMcPXXU62gi2Y6KXNKl1c2tSIhKoHuV7gxcPZBKwyqx9LulXscSyVZU5JJuBXIXYETLESzuvJgkl0SDcQ3oPbc3B48f9DqaSLagIhefaVi6IVv7bKVf7X6M3DCS8Ohw5n2jvw0qktFU5OJTeXLkYWCTgazuvppCoYVoMbkFD05/kMQjiV5HEwlYKnLJEDWK1SA2MpYX673Ix/EfExYdxuStk3Wbv0gG8EmRm1kzM/vazHaY2QBfrFP8X87gnLxQ/wU29NpAmUJl6DC9A62mtGL3od1eRxMJKOkucjMLBoYAdwJhwANmFpbe9UrgKH9Veb7s9iVvN3mbxbsWEx4dzojYESS5JK+jiQQEXxyR1wB2OOd2OedOAlOA1j5YrwSQ4KBgHq/9OFv7bKXatdXoNbcXjcY3YsdvO7yOJuL3fFHkxYAfz/p5d8o0kfPccOUNLO68mJEtR7Jh7wYqDq3I21++rYdwiaRDpv2y08wizSzGzGISE3UFQ3ZmZvSo2oOEqAQal2lM/4X9qT26NnH74ryOJuKXfFHke4ASZ/1cPGXaXzjnRjjnIpxzEUWLFvXBZsXfFctfjFntZzGl7RS++/07qg6vyotLX+TE6RNeRxPxK74o8vXAjWZW2sxyAu2B2T5Yr2QDZsb95e8noW8C94Xfx0vLXqLaiGqs3b3W62gifiPdRe6cOw08DMwHtgFTnXN6ULVckiJ5ijChzQTmPjCXgycOUnt0bR6f/zhHTh7xOppIlmde3KARERHhYmJiMn274h8OnTjEgEUDGBozlDKFyjCy5Ugalm7odSwRz5lZrHMu4tzpurNTspz8ufIT3TyapV2WEmRBNBrfiJ6ze/L78d+9jiaSJanIJcuqV6oeW3pv4ck6TzJm0xjCo8OZ/bV+/SJyLhW5ZGmhOUJ54443WNtjLYVDC9N6SmvaT2vPviP7vI4mkmWoyMUvRFwXQUxkDK80eIUZX82g3JByTNgyQQ/hEkFFLn4kZ3BOnr39WTb22shNhW+i04xOtJjcgh8P/njxN4sEMBW5+J2womGsfGgl7zV9j6XfLSU8Opyh64fqIVySbanIxS8FBwXzSK1HiOsTR83iNYn6NIoG4xqw/dftXkcTyXQqcvFrpQuVZkHHBYxuNZrNP2+m4rCKvLnqTU4nnfY6mkimUZGL3zMzulXpRkLfBJqVbcZTi56i5qiabP55s9fRRDKFilwCxnX5rmP6fdP5uN3H7D60m4iRETz3xXN6CJcEPBW5BBQz496we0mISqBDhQ68uuJVqgyvwuofV3sdTSTDqMglIBXOU5hxd4/jswc/48ipI9w65lYe/fxRDp887HU0EZ9TkUtAa1a2GXF94oiqHsWgtYOoMLQCC3cu/N8CzsHatdCuHUcLXMk/Wz3BsQKF4L77YN265PkiWZyKXAJevlz5GHzXYJZ3XU7O4Jw0mdCE7rO6c+DQPujQARo2hOnT2VDoemaH1WdDoZLwySfJ0zt0gFOnvB6CyN9SkUu2UbdkXTb33syAWwcwbtMHLK1XktMzZ8DRo5CUxMqSlcE5VpasBElJcOQIzJoFnTvryFyyNBW5ZCu5Q3Lz78b/Ji5iDE0TThJy/H9XtCy5oTqY8cUNNf73hmPHYM4cWL/eg7QiaRPidQARLwz8/CiLHvvrI3Fznk4+hfLtlcUo9dTcv8xr/GEso2rUQCQr0hG5ZEtPznyPYgf3kevU/47IT4bk+MtXgFynTlDs4C88OWtQpmcUSSsVuWRLN+3ZzsLRfWi8Yy2hJ4+nukzoyePcsX0tC0dHcdMePcNFsi4VuWRPoaHkOXWCIbPf5LGVE8h96q9lnvvUcR5bOYHBc94kz6kTEBrqUVCRi1ORS/bUvDkEJX/8fyh4LWcsCEtKIvep41hSEmcsiB8KXgNAkhlJd93lZVqRv6Uil+ypXz8IDWVf3kJMqdQUMK77I5FBcwZy3R/7AWNKpWbsy1uQYyGOLmU2s3HvRq9Ti6RKRS7ZU40a0LIl79/ekdPBITT9ZjULR0fRdPsaFo7uQ5PtqzkdHML7dTvy2x23sbDw71QfWZ3/W/x/HD+d+jl1Ea+oyCV7MoPx4zlWpixvLhrK4HkDk8+FQ/K587kDeXNhNMduuJESM79g28Nf0blSZ/698t9UHlaZVT+s8ngAIv9jXvzx2oiICBcTE5Pp2xU5j3PJN/sMHAiffpp8A1BoaPI59P79oXr1vyy+YOcCIudE8sPBH+hbvS+vNXqNfLnyeRReshszi3XORZw3XUUucmkOnzzMM4uf4T/r/kOJAiUY0WIETcs29TqWZAMXKnKdWhG5RFfkvIJBdw5iZbeV5MmRh2YTm9FlZhd+O/ab19Ekm1KRi1ymOiXqsLHXRp6p+wyTtk6i3JByTEuY5nUsyYZU5CLpkDskN682fJX1PddTPH9x2n3cjrZT27L3j71eR5NsREUu4gOVr6nM2h5reb3R68z7Zh5h0WGM3TgWL34HJdlPuorczNqZWbyZJZnZeSfgRbKTkKAQnrrtKbb02UKFqyrQbXY3mk5oyrcHvvU6mgS49B6RxwFtgOU+yCISEG4qfBNLuy4l+q5oVu9eTfmh5Xl/7fucSTrjdTQJUOkqcufcNufc174KIxIogiyIPtX7EB8VT72S9Xjk80eoO7Yu2xK3eR1NAlCmnSM3s0gzizGzmMTExMzarIinri9wPfM6zOPDez7k61+/pvLwyvxr+b84dUZ/B1R856JFbmaLzCwulVfrS9mQc26Ecy7CORdRtGjRy08s4mfMjI4VO7Kt7zbuvuVunl3yLBEjI4j9KdbraBIgLlrkzrnGzrnyqbxmZUZAkUBxVd6r+Ojej5hx/wwSjyRSc1RNBiwawLFTx7yOJn5Olx+KZLK7b7mbhL4JdK3clTdWvUGlYZVY/r2uF5DLl97LD+8xs91AbWCemc33TSyRwFYwd0FGtRrFok6LOJ10mnof1CNqXhSHThzyOpr4ofRetTLDOVfcOZfLOXe1c05PDhK5BI3KNGJrn608VusxhsUMo3x0eT7d/qnXscTP6NSKiMfy5szLO03f4cvuX5IvVz6aT2pOpxmd2H90v9fRxE+oyEWyiFrFa7EhcgPP3/48U+KmEDYkjKnxU3Wbv1yUilwkC8kVkouXGrxEbGQsJQuW5P5p93PPR/fw0x8/eR1NsjAVuUgWVPHqiqzuvpq37niL+TvnEzYkjFEbRunoXFKlIhfJokKCQuhfpz9b+2yl8jWV6TmnJ40/bMyuA7u8jiZZjIpcJIsre2VZvujyBcNbDGf9nvWUjy7Pu6vf1UO45L9U5CJ+IMiCiKwWSULfBBqWbsjjCx7n1jG3Er8v3utokgWoyEX8SPH8xZnzwBwmtZnEzgM7qTK8Ci8ve5mTZ056HU08pCIX8TNmxgMVHiAhKoF7w+7lhaUvUG1ENdbvWe91NPGIilzETxXNW5RJbScxu/1sDhw7QK3Rtei/oD9HTx31OppkMhW5iJ9reXNL4qPi6Vm1J2+vfpuKQyuy9LulXseSTKQiFwkABXIXYFiLYXzR+QsAGoxrQK85vTh4/KDHySQzqMhFAkiD0g3Y0mcL/Wv3Z9TGUYRHhzP3m7lex5IMpiIXCTB5cuThrSZvsbr7agqFFqLl5JZ0+KQDiUf0JxYDlYpcJEDVKFaD2MhYXqr/EtMSphEWHcbkrZN1m38AUpGLBLCcwTl5vt7zbOy1kRsK3UCH6R1oNaUVuw/t9jqa+JCKXCQbCL8qnFXdVvFOk3dYvGsxYUPCGB4znCSX5HU08QEVuUg2ERwUzGO1HyMuKo7qxarTe15vGo1vxI7fdngdTdJJRS6SzZQpVIZFnRYxsuVINuzdQIWhFRj45UBOJ532OppcJhW5SDZkZvSo2oOEqASa3NCEJxY+QZ3Rddj6y1avo8llUJGLZGPF8hdj5v0z+ejej/ju9++oOqIqLyx5gROnT3gdTS6BilwkmzMz7gu/j219t9G+fHteXv4yVUdUZc3uNV5HkzRSkYsIAIXzFObDez5kXod5HDpxiDqj6/D4/Mc5cvKI19HkIlTkIvIXd914F/FR8fSO6M27a96lwtAKLN612OtY8jdU5CJynvy58hPdPJplXZcREhRC4w8b03N2T34//rvX0SQVKnIRuaDbS97O5t6bebLOk4zZNIawIWHM+mqW17HkHCpyEflboTlCeeOON1jbYy1F8xbl7o/u5v5p9/PL4V+8jiYpVOQikiYR10UQ0zOGVxu8ysyvZhIWHcaELRP0EK4sQEUuImmWIzgHz9z+DJt6beLmwjfTaUYnmk9qzg8Hf/A6WramIheRS1auaDlWPLSCQc0Gsez7ZYRHhzN0/VA9hMsj6SpyM3vLzL4ysy1mNsPMCvoqmIhkbcFBwfyz5j+J6xNHreK1iPo0ivof1OebX7/xOlq2k94j8oVAeedcReAb4On0RxIRf1K6UGkWdFzAmFZj2LpvK5WGVeLNVW/qIVyZKF1F7pxb4Jz7c2+tAYqnP5KI+Bsz46EqD5EQlcCdZe/kqUVPUXNUTTb/vNnraNmCL8+RdwM+u9BMM4s0sxgzi0lM1N8OFAlE1+a7lun3T2dau2nsObSHiJERPPvFsxw/fdzraAHNLnbpkJktAq5JZdYzzrlZKcs8A0QAbVwarkWKiIhwMTExlxFXRPzFb8d+4/H5jzNu8zhuKXILo1uNpk6JOl7H8mtmFuucizh3+kWPyJ1zjZ1z5VN5/VniXYEWwINpKXERyR6uDL2SD+7+gM8f/Jyjp45y25jbeOSzRzh88rDX0QJOeq9aaQY8CbRyzh31TSQRCSRNyzYlrk8cfav35f1171NhaAUW7lzodayAkt5z5IOBfMBCM9tkZsN8kElEAky+XPn4z13/YcVDK8gVnIsmE5rQbVY3Dhw74HW0gJDeq1bKOudKOOcqp7x6+yqYiASe266/jU29N/H0bU8zfvN4wqLDmL5tutex/J7u7BSRTJU7JDevNXqN9T3Xc80V19B2alvunXovPx/+2etofktFLiKeqHJtFdb1WMdrDV9j7jdzCRsSxrhN4/QQrsugIhcRz+QIzsHTdZ9mU+9NhBUNo+usrtw58U6+//17r6P5FRW5iHjuliK3sPyh5Qy+czCrflxFeHQ4g9cN1kO40khFLiJZQpAF0bdGX+L6xHHb9bfxj8/+we1jb+er/V95HS3LU5GLSJZSsmBJPnvwM8bdPY6ExAQqDavEayte49SZU15Hy7JU5CKS5ZgZnSt1ZlvfbbS6uRXPfPEMNUbVYOPejV5Hy5JU5CKSZV19xdV83O5jPrnvE34+/DPVR1bn6UVP6yFc51CRi0iW16ZcGxKiEuhcqTOvr3qdSsMqsfKHlV7HyjJU5CLiFwqFFmJM6zEs6LiAk2dOUndsXR7+9GH+OPGH19E8pyIXEb9yxw13sLXPVh6p+QjR66MpP7Q8n+/43OtYnlKRi4jfuSLnFbzX7D1WdVtF3hx5uXPinXSZ2YVfj/7qdTRPqMhFxG/VLlGbjb028mzdZ5m0dRJh0WFMS5iW7W7zV5GLiF/LFZKLVxq+QkzPGErkL0G7j9vRdmpb9v6x1+tomUZFLiIBodI1lVjTYw1vNH6Dz3Z8Rlh0GGM3js0WR+cqchEJGCFBITx565Ns7r2ZildXpNvsbjSZ0IRvD3zrdbQMpSIXkYBzU+GbWNJlCUObD2Xt7rWUH1qeQWsGcSbpjNfRMoSKXEQCUpAF0TuiN/FR8dQrWY9H5z9K3bF1SUhM8Dqaz6nIRSSglShQgnkd5jHhngl88+s3VBlehVeXvxpQD+FSkYtIwDMzHqz4IAl9E7jnlnt4bslzRIyMIPanWK+j+YSKXESyjavyXsWUe6cw8/6Z7D+6nxqjavDUwqc4duqY19HSRUUuItlO61taEx8VT/cq3XnzyzepNKwSy75b5nWsy6YiF5FsqWDugoxoOYLFnRdzxp2h/rj69Jnbh0MnDnkd7ZKpyEUkW2tYuiFbem/h8VqPM2LDCMKjw/l0+6dex7okKnIRyfby5szL203f5stuX5I/V36aT2pOx+kd2X90v9fR0kRFLiKSombxmmyI3MAL9V7go/iPCBsSxkdxH2X52/xV5CIiZ8kVkosX67/IhsgNlCpYivaftOfuj+5mz6E9Xke7IBW5iEgqKlxdgdXdVzPwjoEs3LmQsOgwRsaOzJJH5ypyEZELCA4Kpl+dfmzps4Wq11Ylcm4kjcY3YudvO72O9hcqchGRiyh7ZVkWd17M8BbDid0bS4WhFXhn9TtZ5iFc6SpyM3vFzLaY2SYzW2Bm1/kqmIhIVhJkQURWiyQ+Kp5GZRrRb0E/6oypQ9y+OK+jpfuI/C3nXEXnXGVgLvC8DzKJiGRZxfMXZ3b72UxuO5ldB3ZRdXhVXlr6EifPnPQsU7qK3Dl39i1QeYGs91sAEREfMzPal2/Ptr7baBfejheXvUi1EdVYt2edJ3nSfY7czP5lZj8CD/I3R+RmFmlmMWYWk5iYmN7Nioh4rkieIkxsM5E5D8zhwLED1B5dm/4L+nP01NFMzWEXu5TGzBYB16Qy6xnn3KyzlnsayO2ce+FiG42IiHAxMTGXmlVEJMs6ePwgTy16iuGxwylTqAyjWo6iQekGPt2GmcU65yLOnX7RI3LnXGPnXPlUXrPOWXQi0NZXgUVE/EmB3AUY1mIYS7oswTAajm9Irzm9OHj8YIZvO71Xrdx41o+tga/SF0dExL/VL1WfLX220L92f0ZtHEVYdBhzvp6TodtM7zny180szsy2AE2AR3yQSUTEr+XJkYe3mrzFmu5rKBxamFZTWtHhkw4kHsmY3w9e9Bx5RtA5chHJLk6eOckbK9/gleWvkD9XfqbdN436pepf1rou+xy5iIhcvpzBOXmu3nNs7LWRatdVo+yVZX2+jRCfr1FERM4TflU48zvOz5B164hcRMTPqchFRPycilxExM+pyEVE/JyKXETEz6nIRUT8nIpcRMTPqchFRPycJ7fom1ki8H2mb9g3igD7vQ7hYxqT/wjEcWlMaVfSOVf03ImeFLk/M7OY1J514M80Jv8RiOPSmNJPp1ZERPycilxExM+pyC/dCK8DZACNyX8E4rg0pnTSOXIRET+nI3IRET+nIhcR8XMq8nOY2ZVmttDMtqd8LXSB5a43swVmts3MEsysVMr00ma21sx2mNlHZpYzM/NfyCWM64yZbUp5zT5r+gdm9u1Z8ypnXvrU+WBMWW5fpXVMKcvmN7PdZjb4rGlLzezrs8Z7VeYk/3s+GFUFE5AAAAPTSURBVFc1M9uasq/eNzPLnOQXlpYxmVlJM9uQsi/izaz3WfN8tq9U5OcbACx2zt0ILE75OTXjgbecc+WAGsC+lOlvAO8658oCB4DuGZw3rdI6rmPOucopr1bnzHvirHmbMjRt2qR3TFlxX6V1TACvAMtTmf7gWePdl8p8L6R3XEOBnsCNKa9mGRHyEqVlTHuB2s65ykBNYICZXXfWfJ/sKxX5+VoD41K+Hwfcfe4CZhYGhDjnFgI45w47546mHCU0BKb93fs9ctFx+aHLHlMW3ldpGpOZVQOuBhZkUq70uuxxmdm1QH7n3BqXfHXG+Au9P5NddEzOuZPOuRMpP+YigzpXRX6+q51ze1O+/5nkD9W5bgJ+N7PpZrbRzN4ys2CgMPC7c+50ynK7gWIZHzlN0jIugNxmFmNma8zs3A/mv8xsi5m9a2a5Mi5qmqVnTFl1X110TGYWBLwN9L/AOsam/K/6c1nhFESK9IyrGMn7509+s68AzKyEmW0BfgTecM79dNZsn+yrbPnHl81sEXBNKrOeOfsH55wzs9SuzwwB6gJVgB+Aj4CuwCzfJr00PhgXJD/LYY+ZlQG+MLOtzrmdwNMkf1hzknyN7FPAy75Ln7qMGhNw0MdR08wHY4oCPnXO7U7lv/0HU8aaD/gE6ETyEWyGy+BxecIXnz/n3I9AxZRTKjPNbJpz7hd8uK+yZZE75xpfaJ6Z/WJm1zrn9qb8L11q5612A5ucc7tS3jMTqAWMAQqaWUjKkV5xYI/vR5A6H4wL59yelK+7zGwpyf9Y7TzryOOEmY3lwkeDPpWBY/oEj/aVD8ZUG6hrZlHAFUBOMzvsnBtw1lj/MLNJJP/+JlOKPKPGBQwief/8yZ/21dnr+snM4kg+CJzmy32lUyvnmw10Sfm+C6kfZa8nuQT+fApZQyAh5fzdEuDei7zfCxcdl5kV+vOUiZkVAW4FElJ+vjblq5F8LjAuEzJfzGWPKQvvq4uOyTn3oHPueudcKZL/QR3vnBtgZiEpY8TMcgAtyBr7CdIxrpSDiENmVivl89c5tfd7IC2fv+JmFpryfSHgNuBrn+8r55xeZ71IPne6GNgOLAKuTJkeAYw6a7k7gC3AVuADIGfK9DLAOmAH8DGQy+sxpXVcQJ2U8WxO+dr9rPd/kTItDpgAXBEAY8py+yqtn7+zlu8KDE75Pi8Qm/K5jCf5SDbY6zGld1xnLRcH7AQGk3JXelYf01k9sTnla2RG7Cvdoi8i4ud0akVExM+pyEVE/JyKXETEz6nIRUT8nIpcRMTPqchFRPycilxExM/9P2BqBMTvj7/eAAAAAElFTkSuQmCC\n",
         "text/plain": "<Figure size 432x288 with 1 Axes>"
        },
        "metadata": {
         "needs_background": "light"
        },
        "output_type": "display_data"
       }
      ]
     }
    },
    "723f0d9002e4469aa8b4d9ff2876afd6": {
     "model_module": "@jupyter-widgets/base",
     "model_module_version": "1.2.0",
     "model_name": "LayoutModel",
     "state": {
      "_model_module": "@jupyter-widgets/base",
      "_model_module_version": "1.2.0",
      "_model_name": "LayoutModel",
      "_view_count": null,
      "_view_module": "@jupyter-widgets/base",
      "_view_module_version": "1.2.0",
      "_view_name": "LayoutView",
      "align_content": null,
      "align_items": null,
      "align_self": null,
      "border": null,
      "bottom": null,
      "display": null,
      "flex": null,
      "flex_flow": null,
      "grid_area": null,
      "grid_auto_columns": null,
      "grid_auto_flow": null,
      "grid_auto_rows": null,
      "grid_column": null,
      "grid_gap": null,
      "grid_row": null,
      "grid_template_areas": null,
      "grid_template_columns": null,
      "grid_template_rows": null,
      "height": null,
      "justify_content": null,
      "justify_items": null,
      "left": null,
      "margin": null,
      "max_height": null,
      "max_width": null,
      "min_height": null,
      "min_width": null,
      "object_fit": null,
      "object_position": null,
      "order": null,
      "overflow": null,
      "overflow_x": null,
      "overflow_y": null,
      "padding": null,
      "right": null,
      "top": null,
      "visibility": null,
      "width": null
     }
    },
    "7c853b82c1d547e591e215c190186416": {
     "model_module": "@jupyter-widgets/controls",
     "model_module_version": "1.5.0",
     "model_name": "SliderStyleModel",
     "state": {
      "_model_module": "@jupyter-widgets/controls",
      "_model_module_version": "1.5.0",
      "_model_name": "SliderStyleModel",
      "_view_count": null,
      "_view_module": "@jupyter-widgets/base",
      "_view_module_version": "1.2.0",
      "_view_name": "StyleView",
      "description_width": "",
      "handle_color": null
     }
    },
    "7c9b97928cbf48db93accfa02dcd46b3": {
     "model_module": "@jupyter-widgets/controls",
     "model_module_version": "1.5.0",
     "model_name": "IntSliderModel",
     "state": {
      "_dom_classes": [],
      "_model_module": "@jupyter-widgets/controls",
      "_model_module_version": "1.5.0",
      "_model_name": "IntSliderModel",
      "_view_count": null,
      "_view_module": "@jupyter-widgets/controls",
      "_view_module_version": "1.5.0",
      "_view_name": "IntSliderView",
      "continuous_update": true,
      "description": "seed",
      "description_tooltip": null,
      "disabled": false,
      "layout": "IPY_MODEL_b6da1ec793b64fa6a677c63775d74bfd",
      "max": 10,
      "min": 0,
      "orientation": "horizontal",
      "readout": true,
      "readout_format": "d",
      "step": 1,
      "style": "IPY_MODEL_1af49b03019040f08def559c89a56d6d",
      "value": 5
     }
    },
    "91ec1b66751247c2a3137258ffbc915d": {
     "model_module": "@jupyter-widgets/base",
     "model_module_version": "1.2.0",
     "model_name": "LayoutModel",
     "state": {
      "_model_module": "@jupyter-widgets/base",
      "_model_module_version": "1.2.0",
      "_model_name": "LayoutModel",
      "_view_count": null,
      "_view_module": "@jupyter-widgets/base",
      "_view_module_version": "1.2.0",
      "_view_name": "LayoutView",
      "align_content": null,
      "align_items": null,
      "align_self": null,
      "border": null,
      "bottom": null,
      "display": null,
      "flex": null,
      "flex_flow": null,
      "grid_area": null,
      "grid_auto_columns": null,
      "grid_auto_flow": null,
      "grid_auto_rows": null,
      "grid_column": null,
      "grid_gap": null,
      "grid_row": null,
      "grid_template_areas": null,
      "grid_template_columns": null,
      "grid_template_rows": null,
      "height": null,
      "justify_content": null,
      "justify_items": null,
      "left": null,
      "margin": null,
      "max_height": null,
      "max_width": null,
      "min_height": null,
      "min_width": null,
      "object_fit": null,
      "object_position": null,
      "order": null,
      "overflow": null,
      "overflow_x": null,
      "overflow_y": null,
      "padding": null,
      "right": null,
      "top": null,
      "visibility": null,
      "width": null
     }
    },
    "9af2af3a6a464ab4883be2f869b05cee": {
     "model_module": "@jupyter-widgets/controls",
     "model_module_version": "1.5.0",
     "model_name": "SliderStyleModel",
     "state": {
      "_model_module": "@jupyter-widgets/controls",
      "_model_module_version": "1.5.0",
      "_model_name": "SliderStyleModel",
      "_view_count": null,
      "_view_module": "@jupyter-widgets/base",
      "_view_module_version": "1.2.0",
      "_view_name": "StyleView",
      "description_width": "",
      "handle_color": null
     }
    },
    "9b678cc13068422f9fec58a7a1373f87": {
     "model_module": "@jupyter-widgets/controls",
     "model_module_version": "1.5.0",
     "model_name": "FloatSliderModel",
     "state": {
      "_dom_classes": [],
      "_model_module": "@jupyter-widgets/controls",
      "_model_module_version": "1.5.0",
      "_model_name": "FloatSliderModel",
      "_view_count": null,
      "_view_module": "@jupyter-widgets/controls",
      "_view_module_version": "1.5.0",
      "_view_name": "FloatSliderView",
      "continuous_update": true,
      "description": "u",
      "description_tooltip": null,
      "disabled": false,
      "layout": "IPY_MODEL_4ccf0ea370d4499ba54b1f6edc27d9b0",
      "max": 2,
      "min": -1,
      "orientation": "horizontal",
      "readout": true,
      "readout_format": ".2f",
      "step": 0.1,
      "style": "IPY_MODEL_7c853b82c1d547e591e215c190186416",
      "value": 0.5
     }
    },
    "a9c8e243c1af43f6abaf53f993b17895": {
     "model_module": "@jupyter-widgets/controls",
     "model_module_version": "1.5.0",
     "model_name": "FloatSliderModel",
     "state": {
      "_dom_classes": [],
      "_model_module": "@jupyter-widgets/controls",
      "_model_module_version": "1.5.0",
      "_model_name": "FloatSliderModel",
      "_view_count": null,
      "_view_module": "@jupyter-widgets/controls",
      "_view_module_version": "1.5.0",
      "_view_name": "FloatSliderView",
      "continuous_update": true,
      "description": "s",
      "description_tooltip": null,
      "disabled": false,
      "layout": "IPY_MODEL_14bbbd03fa524f03822f6691dcd4f2b3",
      "max": 2,
      "min": -2,
      "orientation": "horizontal",
      "readout": true,
      "readout_format": ".2f",
      "step": 0.1,
      "style": "IPY_MODEL_139321ff654e428bbd1b1e8b7796ff79",
      "value": 0
     }
    },
    "b6da1ec793b64fa6a677c63775d74bfd": {
     "model_module": "@jupyter-widgets/base",
     "model_module_version": "1.2.0",
     "model_name": "LayoutModel",
     "state": {
      "_model_module": "@jupyter-widgets/base",
      "_model_module_version": "1.2.0",
      "_model_name": "LayoutModel",
      "_view_count": null,
      "_view_module": "@jupyter-widgets/base",
      "_view_module_version": "1.2.0",
      "_view_name": "LayoutView",
      "align_content": null,
      "align_items": null,
      "align_self": null,
      "border": null,
      "bottom": null,
      "display": null,
      "flex": null,
      "flex_flow": null,
      "grid_area": null,
      "grid_auto_columns": null,
      "grid_auto_flow": null,
      "grid_auto_rows": null,
      "grid_column": null,
      "grid_gap": null,
      "grid_row": null,
      "grid_template_areas": null,
      "grid_template_columns": null,
      "grid_template_rows": null,
      "height": null,
      "justify_content": null,
      "justify_items": null,
      "left": null,
      "margin": null,
      "max_height": null,
      "max_width": null,
      "min_height": null,
      "min_width": null,
      "object_fit": null,
      "object_position": null,
      "order": null,
      "overflow": null,
      "overflow_x": null,
      "overflow_y": null,
      "padding": null,
      "right": null,
      "top": null,
      "visibility": null,
      "width": null
     }
    },
    "d4ae62ec4f174d88b11ef2ba15979db5": {
     "model_module": "@jupyter-widgets/base",
     "model_module_version": "1.2.0",
     "model_name": "LayoutModel",
     "state": {
      "_model_module": "@jupyter-widgets/base",
      "_model_module_version": "1.2.0",
      "_model_name": "LayoutModel",
      "_view_count": null,
      "_view_module": "@jupyter-widgets/base",
      "_view_module_version": "1.2.0",
      "_view_name": "LayoutView",
      "align_content": null,
      "align_items": null,
      "align_self": null,
      "border": null,
      "bottom": null,
      "display": null,
      "flex": null,
      "flex_flow": null,
      "grid_area": null,
      "grid_auto_columns": null,
      "grid_auto_flow": null,
      "grid_auto_rows": null,
      "grid_column": null,
      "grid_gap": null,
      "grid_row": null,
      "grid_template_areas": null,
      "grid_template_columns": null,
      "grid_template_rows": null,
      "height": null,
      "justify_content": null,
      "justify_items": null,
      "left": null,
      "margin": null,
      "max_height": null,
      "max_width": null,
      "min_height": null,
      "min_width": null,
      "object_fit": null,
      "object_position": null,
      "order": null,
      "overflow": null,
      "overflow_x": null,
      "overflow_y": null,
      "padding": null,
      "right": null,
      "top": null,
      "visibility": null,
      "width": null
     }
    },
    "f3c253cfa803478d88400377b7d08643": {
     "model_module": "@jupyter-widgets/output",
     "model_module_version": "1.0.0",
     "model_name": "OutputModel",
     "state": {
      "_dom_classes": [],
      "_model_module": "@jupyter-widgets/output",
      "_model_module_version": "1.0.0",
      "_model_name": "OutputModel",
      "_view_count": null,
      "_view_module": "@jupyter-widgets/output",
      "_view_module_version": "1.0.0",
      "_view_name": "OutputView",
      "layout": "IPY_MODEL_5f17463600024991b1061318ffb273eb",
      "msg_id": "",
      "outputs": [
       {
        "data": {
         "image/png": "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\n",
         "text/plain": "<Figure size 432x288 with 1 Axes>"
        },
        "metadata": {
         "needs_background": "light"
        },
        "output_type": "display_data"
       }
      ]
     }
    }
   }
  }
 },
 "nbformat": 4,
 "nbformat_minor": 4
}
