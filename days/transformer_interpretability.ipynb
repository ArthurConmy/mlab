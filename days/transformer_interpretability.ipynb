{
 "cells": [
  {
   "cell_type": "code",
   "execution_count": 1,
   "id": "c02e8a8c",
   "metadata": {},
   "outputs": [],
   "source": [
    "from einops import reduce, rearrange, repeat\n",
    "import days.gpt2 as gpt2\n",
    "import days.bert as bert\n",
    "import torch as t\n",
    "from utils import tpeek\n",
    "import matplotlib.pyplot as plt\n",
    "\n",
    "\n",
    "\n"
   ]
  },
  {
   "cell_type": "code",
   "execution_count": 2,
   "id": "d9a94766",
   "metadata": {},
   "outputs": [
    {
     "name": "stdout",
     "output_type": "stream",
     "text": [
      "No version set for command starship\n",
      "Consider adding one of the following versions in your config file at /home/ubuntu/.tool-versions\n",
      "rust 1.53.0\n",
      "Already up to date.\n"
     ]
    }
   ],
   "source": [
    "model, _ = bert.my_bert_from_hf_weights()"
   ]
  },
  {
   "cell_type": "code",
   "execution_count": 59,
   "id": "11b8d2c7",
   "metadata": {
    "scrolled": true
   },
   "outputs": [
    {
     "data": {
      "image/png": "[encoded data removed]",
      "text/plain": [
       "<Figure size 432x288 with 1 Axes>"
      ]
     },
     "metadata": {
      "needs_background": "light"
     },
     "output_type": "display_data"
    }
   ],
   "source": [
    "import subprocess\n",
    "def hook_attentions(model):\n",
    "    result = []\n",
    "\n",
    "    def hook(module, _input, output):\n",
    "        nonlocal result\n",
    "        # tpeek(output)\n",
    "        output = output[0]\n",
    "        output = t.softmax(output, dim=-2)\n",
    "        result.append(output)\n",
    "\n",
    "    for block in model.transformer:\n",
    "        block.attention.pattern.register_forward_hook(hook)\n",
    "    return result\n",
    "\n",
    "def show_attention_ascii_art(attentions,tokens):\n",
    "    tmpname = \"/home/ubuntu/mlab/days/ascii-temp-image.png\"\n",
    "    plt.imsave(tmpname,attentions.detach().numpy())\n",
    "    asciiart = subprocess.check_output(f\"ascii-image-converter {tmpname}\",shell=True).decode(\"utf-8\").strip()\n",
    "    print(\"asciiart\", asciiart)\n",
    "    assert 1==2\n",
    "    \n",
    "    scale_factor=5\n",
    "    scale_factor_vertical=int(1/2*scale_factor)\n",
    "    assert len(tokens)==attentions.shape[0]\n",
    "    fill_values =list(reversed(\"$@B%8&WM#*oahkbdpqwmZO0QLCJUYXzcvunxrjft/\\|()1{}[]?-_+~<>i!lI;:,\\\"^`'. \"))\n",
    "    token_maxlen = max(len(t) for t in tokens)\n",
    "    result = \"\"\n",
    "    for line,token in zip(attentions,tokens):\n",
    "        art_line=\"\".join([fill_values[int(x*len(fill_values))]*scale_factor for x in line])\n",
    "        result+=\" \"*(token_maxlen-len(token))+token+\" \"+ art_line+\"\\n\"\n",
    "        result+=(\" \"*token_maxlen+\" \"+art_line+\"\\n\")*(scale_factor_vertical-1)\n",
    "    for l in range(token_maxlen):\n",
    "        result+=\" \"*token_maxlen+\" \"\n",
    "        for t in tokens:\n",
    "            if len(t)>l:\n",
    "                result+=t[l]\n",
    "            else:\n",
    "                result+=\" \"\n",
    "            result+=\" \"*(scale_factor-1)\n",
    "        result+=\"\\n\"\n",
    "    print(result)\n",
    "    \n",
    "def show_aggregate_attention(model, text):\n",
    "    attention_buffer = hook_attentions(model)\n",
    "    token_ids = model.tokenizer(text, return_tensors=\"pt\")[\"input_ids\"]\n",
    "    tokens = [model.tokenizer.decode([x]) for x in token_ids[0]]\n",
    "    model(token_ids)\n",
    "    attention_vals = t.stack(attention_buffer, dim=0)\n",
    "    # tpeek(\"attention buffer\", attention_vals)\n",
    "    attention_aggregate = reduce(attention_vals, \"layer head from to -> from to\", \"mean\")\n",
    "    attention_aggregate_last = reduce(attention_vals[0], \"head from to -> from to\", \"mean\")\n",
    "    # show_attention_ascii_art(attention_aggregate, tokens)\n",
    "\n",
    "    # print(reduce(attention_vals, \"l h f t -> t f\",\"mean\")[0].detach().numpy())\n",
    "    plt.imshow(rearrange(attention_vals[0], \"h f t -> (h f)  t\").detach().numpy())\n",
    "    \n",
    "show_aggregate_attention(model, \"The firetruck was painted bright red\")"
   ]
  },
  {
   "cell_type": "code",
   "execution_count": 60,
   "id": "7f14980b",
   "metadata": {},
   "outputs": [
    {
     "data": {
      "image/png": "[encoded data removed]",
      "text/plain": [
       "<Figure size 432x288 with 1 Axes>"
      ]
     },
     "metadata": {
      "needs_background": "light"
     },
     "output_type": "display_data"
    }
   ],
   "source": [
    "show_aggregate_attention(model, \"The capital of Germany is Berlin. The capital of England is London. The capital of France is Paris\")"
   ]
  }
 ],
 "metadata": {
  "kernelspec": {
   "display_name": "Python 3 (ipykernel)",
   "language": "python",
   "name": "python3"
  },
  "language_info": {
   "codemirror_mode": {
    "name": "ipython",
    "version": 3
   },
   "file_extension": ".py",
   "mimetype": "text/x-python",
   "name": "python",
   "nbconvert_exporter": "python",
   "pygments_lexer": "ipython3",
   "version": "3.9.6"
  }
 },
 "nbformat": 4,
 "nbformat_minor": 5
}
