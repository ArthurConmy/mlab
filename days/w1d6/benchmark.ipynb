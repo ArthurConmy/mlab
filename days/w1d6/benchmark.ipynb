{
 "cells": [
  {
   "cell_type": "code",
   "execution_count": 1,
   "metadata": {},
   "outputs": [],
   "source": [
    "%load_ext autoreload\n",
    "%autoreload 2"
   ]
  },
  {
   "cell_type": "code",
   "execution_count": 2,
   "metadata": {},
   "outputs": [],
   "source": [
    "from benchmark import benchmark_ns\n",
    "import torch as t\n",
    "from pycuda_utils import Holder, load_module, ceil_divide\n",
    "import numpy as np\n",
    "from tqdm import tqdm\n",
    "import matplotlib.pyplot as plt"
   ]
  },
  {
   "cell_type": "markdown",
   "metadata": {},
   "source": [
    "### Benchmark sum_atomic"
   ]
  },
  {
   "cell_type": "code",
   "execution_count": 49,
   "metadata": {},
   "outputs": [],
   "source": [
    "sum_atomic = load_module(\"sum_atomic.cu\").get_function(\"sum\")\n",
    "\n",
    "def benchmark_sum_ns(size: int, num_iters: int) -> float:\n",
    "    arr = t.randn(size, dtype=t.float32).cuda()\n",
    "    total = t.zeros(1, dtype=t.float32).cuda()\n",
    "\n",
    "    def fn():\n",
    "        sum_atomic(\n",
    "            Holder(arr),\n",
    "            np.uint32(size),\n",
    "            Holder(total),\n",
    "            block=(512, 1, 1),\n",
    "            grid=(int(ceil_divide(size, 512)), 1),\n",
    "        )\n",
    "\n",
    "    return benchmark_ns(fn, num_iters)\n"
   ]
  },
  {
   "cell_type": "markdown",
   "metadata": {},
   "source": [
    "### Benchmark sum_rows"
   ]
  },
  {
   "cell_type": "code",
   "execution_count": 52,
   "metadata": {},
   "outputs": [],
   "source": [
    "sum_rows = load_module(\"sum_rows.cu\").get_function(\"sum_rows\")\n",
    "\n",
    "counter = 0\n",
    "\n",
    "num_cols = np.uint32(10)\n",
    "num_rows = np.uint32(2000)\n",
    "\n",
    "def benchmark_sum_rows_ns(num_iters: int, num_cols: int, num_rows: int) -> float:\n",
    "    src = t.randn((num_cols, num_rows), dtype=t.float32).cuda()\n",
    "    dst = t.zeros(num_cols, dtype=t.float32).cuda()\n",
    "\n",
    "    src = src.contiguous()\n",
    "    dst = dst.contiguous()\n",
    "\n",
    "    def fn():\n",
    "        sum_rows(\n",
    "            Holder(src),\n",
    "            Holder(dst),\n",
    "            np.uint32(num_cols),\n",
    "            np.uint32(num_rows),\n",
    "            block=(1024, 1, 1),\n",
    "            grid=(int(ceil_divide(num_cols, 1024)), 1),\n",
    "        )\n",
    "\n",
    "    return benchmark_ns(fn, num_iters)\n"
   ]
  },
  {
   "cell_type": "code",
   "execution_count": 54,
   "metadata": {},
   "outputs": [
    {
     "data": {
      "text/plain": [
       "43157.0"
      ]
     },
     "execution_count": 54,
     "metadata": {},
     "output_type": "execute_result"
    }
   ],
   "source": [
    "benchmark_sum_rows_ns(10, 100_000, 10)"
   ]
  },
  {
   "cell_type": "code",
   "execution_count": 55,
   "metadata": {},
   "outputs": [
    {
     "data": {
      "text/plain": [
       "7766471.8"
      ]
     },
     "execution_count": 55,
     "metadata": {},
     "output_type": "execute_result"
    }
   ],
   "source": [
    "benchmark_sum_rows_ns(10, 10, 100_000)"
   ]
  },
  {
   "cell_type": "markdown",
   "metadata": {},
   "source": [
    "### Fast sum_array"
   ]
  },
  {
   "cell_type": "code",
   "execution_count": 77,
   "metadata": {},
   "outputs": [],
   "source": [
    "from sum_shared import shared_sum\n",
    "\n",
    "\n",
    "def benchmark_sum_shared(size: int, num_iters: int) -> float:\n",
    "    arr = t.randn(size, dtype=t.float32).cuda()\n",
    "\n",
    "    def fn():\n",
    "        shared_sum(arr)\n",
    "\n",
    "    return benchmark_ns(fn, num_iters)\n",
    "\n",
    "\n",
    "def benchmark_sum_pytorch(size: int, num_iters: int) -> float:\n",
    "    arr = t.randn(size, dtype=t.float32).cuda()\n",
    "\n",
    "    def fn():\n",
    "        arr.sum()\n",
    "\n",
    "    return benchmark_ns(fn, num_iters)\n"
   ]
  },
  {
   "cell_type": "code",
   "execution_count": 72,
   "metadata": {},
   "outputs": [],
   "source": [
    "STATS = {\n",
    "    \"sizes\" : np.array([10 ** n for n in range(10)])\n",
    "}"
   ]
  },
  {
   "cell_type": "code",
   "execution_count": 73,
   "metadata": {},
   "outputs": [
    {
     "name": "stderr",
     "output_type": "stream",
     "text": [
      "100%|██████████| 10/10 [00:30<00:00,  3.04s/it]\n"
     ]
    }
   ],
   "source": [
    "STATS[\"slow_sum\"] = [benchmark_sum_ns(size, 10) for size in tqdm(STATS[\"sizes\"])]"
   ]
  },
  {
   "cell_type": "code",
   "execution_count": 74,
   "metadata": {},
   "outputs": [
    {
     "name": "stderr",
     "output_type": "stream",
     "text": [
      "100%|██████████| 10/10 [00:07<00:00,  1.34it/s]\n"
     ]
    }
   ],
   "source": [
    "STATS[\"fast_sum\"] = [benchmark_sum_shared(size, 10) for size in tqdm(STATS[\"sizes\"])]"
   ]
  },
  {
   "cell_type": "code",
   "execution_count": 78,
   "metadata": {},
   "outputs": [
    {
     "name": "stderr",
     "output_type": "stream",
     "text": [
      "\n",
      "\u001b[A\n",
      "\u001b[A\n",
      "100%|██████████| 10/10 [00:07<00:00,  1.38it/s]\n"
     ]
    }
   ],
   "source": [
    "STATS[\"pytorch_sum\"] = [benchmark_sum_pytorch(size, 10) for size in tqdm(STATS[\"sizes\"])]"
   ]
  },
  {
   "cell_type": "code",
   "execution_count": 80,
   "metadata": {},
   "outputs": [
    {
     "data": {
      "text/plain": [
       "<matplotlib.legend.Legend at 0x7ff7e0595850>"
      ]
     },
     "execution_count": 80,
     "metadata": {},
     "output_type": "execute_result"
    },
    {
     "data": {
      "image/png": "[encoded data removed]",
      "text/plain": [
       "<Figure size 432x288 with 1 Axes>"
      ]
     },
     "metadata": {
      "needs_background": "light"
     },
     "output_type": "display_data"
    }
   ],
   "source": [
    "plt.plot(STATS[\"sizes\"], STATS[\"fast_sum\"], label = \"fast\")\n",
    "plt.plot(STATS[\"sizes\"], STATS[\"slow_sum\"], label = \"slow\")\n",
    "plt.plot(STATS[\"sizes\"], STATS[\"pytorch_sum\"], label = \"pytorch\")\n",
    "plt.xscale(\"log\")\n",
    "plt.yscale(\"log\")\n",
    "plt.legend()"
   ]
  },
  {
   "cell_type": "code",
   "execution_count": 82,
   "metadata": {},
   "outputs": [
    {
     "name": "stdout",
     "output_type": "stream",
     "text": [
      "[1.7910993  0.32498566 0.59528467 0.1921165  0.18618612 0.26983595\n",
      " 0.13985123 0.23114833 0.30524273 0.42112509]\n"
     ]
    }
   ],
   "source": [
    "print(np.array(STATS[\"pytorch_sum\"]) / np.array(STATS[\"fast_sum\"]))"
   ]
  }
 ],
 "metadata": {
  "interpreter": {
   "hash": "767d51c1340bd893661ea55ea3124f6de3c7a262a8b4abca0554b478b1e2ff90"
  },
  "kernelspec": {
   "display_name": "Python 3.8.5 64-bit",
   "language": "python",
   "name": "python3"
  },
  "language_info": {
   "codemirror_mode": {
    "name": "ipython",
    "version": 3
   },
   "file_extension": ".py",
   "mimetype": "text/x-python",
   "name": "python",
   "nbconvert_exporter": "python",
   "pygments_lexer": "ipython3",
   "version": "3.8.5"
  },
  "orig_nbformat": 4
 },
 "nbformat": 4,
 "nbformat_minor": 2
}
