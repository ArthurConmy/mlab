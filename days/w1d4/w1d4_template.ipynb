{
 "cells": [
  {
   "cell_type": "code",
   "execution_count": 14,
   "metadata": {},
   "outputs": [],
   "source": [
    "# import comet_ml at the top of your file\n",
    "\n",
    "import requests\n",
    "import subprocess\n"
   ]
  },
  {
   "cell_type": "code",
   "execution_count": 25,
   "metadata": {},
   "outputs": [
    {
     "name": "stdout",
     "output_type": "stream",
     "text": [
      "b'{\"job_id\": 419, \"task_ids\": [3985, 3986, 3987, 3988, 3989, 3990, 3991, 3992, 3993, 3994, 3995, 3996, 3997, 3998, 3999, 4000, 4001, 4002]}'\n"
     ]
    }
   ],
   "source": [
    "\n",
    "# img_data = requests.get(\"https://d1iczm3wxxz9zd.cloudfront.net/971e55cc-128e-4809-bb05-2adf7b0238ec/000000-0000000000/39127110424036069919666352160427857710300904072429089980813045768686488932997/ITEM_PREVIEW1.jpg\").content\n",
    "# with open('pineapple.jpg', 'wb') as handler:\n",
    "#     handler.write(img_data)\n",
    "\n",
    "\n",
    "\n",
    "def make_grid(possible_values):\n",
    "    possible_values = possible_values.items()\n",
    "    result = [{}]\n",
    "    for k, vals in possible_values:\n",
    "        result = [dict(**x, **{k: v}) for x in result for v in vals]\n",
    "    return result\n",
    "\n",
    "\n",
    "def get_git_commit():\n",
    "    return (\n",
    "        subprocess.check_output(\"git rev-parse HEAD\", shell=True)\n",
    "        .decode(\"utf-8\")\n",
    "        .strip()\n",
    "    )\n",
    "\n",
    "def params_to_string(params):\n",
    "    return '\\n'.join([f\"{k}={v}\" for k, v in params.items()])\n",
    "\n",
    "\n",
    "\n",
    "\n",
    "def hyperparameter_search(possible_values):\n",
    "    git_commit = get_git_commit()\n",
    "\n",
    "    api_url = 'https://jobs.redwoodresearchcompute.com:10101/api'\n",
    "    json_dict = {\n",
    "        'token': 'tao-1637086550-0-0a7d7030fbb8e316da58c6afce7c6315',\n",
    "        'git_commit': git_commit,\n",
    "        'git_repo': 'redwoodresearch/mlab',\n",
    "        'git_branch': 'warren',\n",
    "        'kind': 'submitJob',\n",
    "        'command': ['python', 'days/w1d4/run_experiment.py'],\n",
    "        'name': 'warren lukas parameter search',\n",
    "        'tasks': [{\n",
    "            'priority': 1,\n",
    "            'parameters': {\n",
    "                'gin_config': params_to_string(params)\n",
    "            }\n",
    "        } for params in make_grid(possible_values)],\n",
    "        'scheduling_requirements': {'schedulability': True, 'resource_options': [[\"A100\"], [\"RTX3090\"], [\"V100\"]]},\n",
    "\n",
    "    }\n",
    "    response = requests.post(api_url, json = json_dict)\n",
    "    print(response.content)\n",
    "\n",
    "# if __name__ == 'main':\n",
    "\n",
    "possible_values = {\n",
    "    'train.lr': [0.1, 0.01, 0.001],\n",
    "    'train.momentum': [0, 0.4, 0.8],\n",
    "    'train.epochs': [1,2]\n",
    "}\n",
    "hyperparameter_search(possible_values)\n",
    "\n",
    "# hyperparameter_search(possible_values, train)"
   ]
  },
  {
   "cell_type": "code",
   "execution_count": 22,
   "metadata": {},
   "outputs": [
    {
     "data": {
      "text/plain": [
       "'a\\nb'"
      ]
     },
     "execution_count": 22,
     "metadata": {},
     "output_type": "execute_result"
    }
   ],
   "source": [
    "'\\n'.join(['a', 'b'])"
   ]
  },
  {
   "cell_type": "code",
   "execution_count": null,
   "metadata": {},
   "outputs": [],
   "source": []
  }
 ],
 "metadata": {
  "interpreter": {
   "hash": "e7370f93d1d0cde622a1f8e1c04877d8463912d04d973331ad4851f04de6915a"
  },
  "kernelspec": {
   "display_name": "Python 3 (ipykernel)",
   "language": "python",
   "name": "python3"
  },
  "language_info": {
   "codemirror_mode": {
    "name": "ipython",
    "version": 3
   },
   "file_extension": ".py",
   "mimetype": "text/x-python",
   "name": "python",
   "nbconvert_exporter": "python",
   "pygments_lexer": "ipython3",
   "version": "3.8.10"
  }
 },
 "nbformat": 4,
 "nbformat_minor": 2
}
