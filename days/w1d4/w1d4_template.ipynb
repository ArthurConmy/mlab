{
 "cells": [
  {
   "cell_type": "code",
   "execution_count": 1,
   "metadata": {},
   "outputs": [],
   "source": [
    "# import comet_ml at the top of your file\n",
    "\n",
    "import requests\n"
   ]
  },
  {
   "cell_type": "code",
   "execution_count": 12,
   "metadata": {},
   "outputs": [
    {
     "name": "stderr",
     "output_type": "stream",
     "text": [
      "COMET WARNING: As you are running in a Jupyter environment, you will need to call `experiment.end()` when finished to ensure all metrics and code are logged before exiting.\n"
     ]
    },
    {
     "name": "stdout",
     "output_type": "stream",
     "text": [
      "[{'train.lr': 0.1, 'train.momentum': 0, 'train.epochs': 1}, {'train.lr': 0.1, 'train.momentum': 0, 'train.epochs': 2}, {'train.lr': 0.1, 'train.momentum': 0.4, 'train.epochs': 1}, {'train.lr': 0.1, 'train.momentum': 0.4, 'train.epochs': 2}, {'train.lr': 0.1, 'train.momentum': 0.8, 'train.epochs': 1}, {'train.lr': 0.1, 'train.momentum': 0.8, 'train.epochs': 2}, {'train.lr': 0.01, 'train.momentum': 0, 'train.epochs': 1}, {'train.lr': 0.01, 'train.momentum': 0, 'train.epochs': 2}, {'train.lr': 0.01, 'train.momentum': 0.4, 'train.epochs': 1}, {'train.lr': 0.01, 'train.momentum': 0.4, 'train.epochs': 2}, {'train.lr': 0.01, 'train.momentum': 0.8, 'train.epochs': 1}, {'train.lr': 0.01, 'train.momentum': 0.8, 'train.epochs': 2}, {'train.lr': 0.001, 'train.momentum': 0, 'train.epochs': 1}, {'train.lr': 0.001, 'train.momentum': 0, 'train.epochs': 2}, {'train.lr': 0.001, 'train.momentum': 0.4, 'train.epochs': 1}, {'train.lr': 0.001, 'train.momentum': 0.4, 'train.epochs': 2}, {'train.lr': 0.001, 'train.momentum': 0.8, 'train.epochs': 1}, {'train.lr': 0.001, 'train.momentum': 0.8, 'train.epochs': 2}]\n"
     ]
    },
    {
     "name": "stderr",
     "output_type": "stream",
     "text": [
      "COMET INFO: Experiment is live on comet.ml https://www.comet.ml/luuf/hyperparameters4/ad0a816ffcf748e09984ed1f8baf8261\n",
      "\n"
     ]
    },
    {
     "name": "stdout",
     "output_type": "stream",
     "text": [
      "train.lr\n",
      "0.1\n",
      "train.momentum\n",
      "0\n",
      "train.epochs\n",
      "1\n"
     ]
    },
    {
     "name": "stderr",
     "output_type": "stream",
     "text": [
      "COMET INFO: ---------------------------\n",
      "COMET INFO: Comet.ml Experiment Summary\n",
      "COMET INFO: ---------------------------\n",
      "COMET INFO:   Data:\n",
      "COMET INFO:     display_summary_level : 1\n",
      "COMET INFO:     url                   : https://www.comet.ml/luuf/hyperparameters4/ad0a816ffcf748e09984ed1f8baf8261\n",
      "COMET INFO:   Metrics [count] (min, max):\n",
      "COMET INFO:     loss [7] : (0.16669440269470215, 0.5253925919532776)\n",
      "COMET INFO:   Parameters:\n",
      "COMET INFO:     train.epochs   : 1\n",
      "COMET INFO:     train.lr       : 0.1\n",
      "COMET INFO:     train.momentum : 0\n",
      "COMET INFO:   Uploads:\n",
      "COMET INFO:     environment details      : 1\n",
      "COMET INFO:     filename                 : 1\n",
      "COMET INFO:     git metadata             : 1\n",
      "COMET INFO:     git-patch (uncompressed) : 1 (73.70 KB)\n",
      "COMET INFO:     installed packages       : 1\n",
      "COMET INFO:     model graph              : 1\n",
      "COMET INFO:     notebook                 : 1\n",
      "COMET INFO:     os packages              : 1\n",
      "COMET INFO:     source_code              : 1\n",
      "COMET INFO: ---------------------------\n",
      "COMET INFO: Uploading metrics, params, and assets to Comet before program termination (may take several seconds)\n",
      "COMET INFO: The Python SDK has 3600 seconds to finish before aborting...\n",
      "COMET WARNING: As you are running in a Jupyter environment, you will need to call `experiment.end()` when finished to ensure all metrics and code are logged before exiting.\n",
      "COMET INFO: Experiment is live on comet.ml https://www.comet.ml/luuf/hyperparameters4/527d40064a3d40afbdf382637048d9cb\n",
      "\n"
     ]
    },
    {
     "name": "stdout",
     "output_type": "stream",
     "text": [
      "train.lr\n",
      "0.1\n",
      "train.momentum\n",
      "0\n",
      "train.epochs\n",
      "2\n"
     ]
    },
    {
     "name": "stderr",
     "output_type": "stream",
     "text": [
      "COMET INFO: ---------------------------\n",
      "COMET INFO: Comet.ml Experiment Summary\n",
      "COMET INFO: ---------------------------\n",
      "COMET INFO:   Data:\n",
      "COMET INFO:     display_summary_level : 1\n",
      "COMET INFO:     url                   : https://www.comet.ml/luuf/hyperparameters4/527d40064a3d40afbdf382637048d9cb\n",
      "COMET INFO:   Metrics [count] (min, max):\n",
      "COMET INFO:     loss [13] : (0.1001172885298729, 0.3408636748790741)\n",
      "COMET INFO:   Parameters:\n",
      "COMET INFO:     train.epochs   : 2\n",
      "COMET INFO:     train.lr       : 0.1\n",
      "COMET INFO:     train.momentum : 0\n",
      "COMET INFO:   Uploads:\n",
      "COMET INFO:     environment details      : 1\n",
      "COMET INFO:     filename                 : 1\n",
      "COMET INFO:     git metadata             : 1\n",
      "COMET INFO:     git-patch (uncompressed) : 1 (73.70 KB)\n",
      "COMET INFO:     installed packages       : 1\n",
      "COMET INFO:     model graph              : 1\n",
      "COMET INFO:     notebook                 : 1\n",
      "COMET INFO:     os packages              : 1\n",
      "COMET INFO:     source_code              : 1\n",
      "COMET INFO: ---------------------------\n",
      "COMET INFO: Uploading 1 metrics, params and output messages\n",
      "COMET WARNING: As you are running in a Jupyter environment, you will need to call `experiment.end()` when finished to ensure all metrics and code are logged before exiting.\n",
      "COMET INFO: Experiment is live on comet.ml https://www.comet.ml/luuf/hyperparameters4/93f385b37c2d4409ab2898e5ec8bdd80\n",
      "\n"
     ]
    },
    {
     "name": "stdout",
     "output_type": "stream",
     "text": [
      "train.lr\n",
      "0.1\n",
      "train.momentum\n",
      "0.4\n",
      "train.epochs\n",
      "1\n"
     ]
    },
    {
     "name": "stderr",
     "output_type": "stream",
     "text": [
      "COMET INFO: ---------------------------\n",
      "COMET INFO: Comet.ml Experiment Summary\n",
      "COMET INFO: ---------------------------\n",
      "COMET INFO:   Data:\n",
      "COMET INFO:     display_summary_level : 1\n",
      "COMET INFO:     url                   : https://www.comet.ml/luuf/hyperparameters4/93f385b37c2d4409ab2898e5ec8bdd80\n",
      "COMET INFO:   Metrics [count] (min, max):\n",
      "COMET INFO:     loss [7] : (0.11863186210393906, 0.45673832297325134)\n",
      "COMET INFO:   Parameters:\n",
      "COMET INFO:     train.epochs   : 1\n",
      "COMET INFO:     train.lr       : 0.1\n",
      "COMET INFO:     train.momentum : 0.4\n",
      "COMET INFO:   Uploads:\n",
      "COMET INFO:     environment details      : 1\n",
      "COMET INFO:     filename                 : 1\n",
      "COMET INFO:     git metadata             : 1\n",
      "COMET INFO:     git-patch (uncompressed) : 1 (73.70 KB)\n",
      "COMET INFO:     installed packages       : 1\n",
      "COMET INFO:     model graph              : 1\n",
      "COMET INFO:     notebook                 : 1\n",
      "COMET INFO:     os packages              : 1\n",
      "COMET INFO:     source_code              : 1\n",
      "COMET INFO: ---------------------------\n",
      "COMET INFO: Uploading 1 metrics, params and output messages\n",
      "COMET WARNING: As you are running in a Jupyter environment, you will need to call `experiment.end()` when finished to ensure all metrics and code are logged before exiting.\n",
      "COMET INFO: Experiment is live on comet.ml https://www.comet.ml/luuf/hyperparameters4/9adb516af03543bd940ee6f5daa2334f\n",
      "\n"
     ]
    },
    {
     "name": "stdout",
     "output_type": "stream",
     "text": [
      "train.lr\n",
      "0.1\n",
      "train.momentum\n",
      "0.4\n",
      "train.epochs\n",
      "2\n"
     ]
    },
    {
     "name": "stderr",
     "output_type": "stream",
     "text": [
      "COMET INFO: ---------------------------\n",
      "COMET INFO: Comet.ml Experiment Summary\n",
      "COMET INFO: ---------------------------\n",
      "COMET INFO:   Data:\n",
      "COMET INFO:     display_summary_level : 1\n",
      "COMET INFO:     url                   : https://www.comet.ml/luuf/hyperparameters4/9adb516af03543bd940ee6f5daa2334f\n",
      "COMET INFO:   Metrics [count] (min, max):\n",
      "COMET INFO:     loss [13] : (0.11297901719808578, 0.4258404076099396)\n",
      "COMET INFO:   Parameters:\n",
      "COMET INFO:     train.epochs   : 2\n",
      "COMET INFO:     train.lr       : 0.1\n",
      "COMET INFO:     train.momentum : 0.4\n",
      "COMET INFO:   Uploads:\n",
      "COMET INFO:     environment details      : 1\n",
      "COMET INFO:     filename                 : 1\n",
      "COMET INFO:     git metadata             : 1\n",
      "COMET INFO:     git-patch (uncompressed) : 1 (73.70 KB)\n",
      "COMET INFO:     installed packages       : 1\n",
      "COMET INFO:     model graph              : 1\n",
      "COMET INFO:     notebook                 : 1\n",
      "COMET INFO:     os packages              : 1\n",
      "COMET INFO:     source_code              : 1\n",
      "COMET INFO: ---------------------------\n",
      "COMET INFO: Uploading 1 metrics, params and output messages\n",
      "COMET WARNING: As you are running in a Jupyter environment, you will need to call `experiment.end()` when finished to ensure all metrics and code are logged before exiting.\n",
      "COMET INFO: Experiment is live on comet.ml https://www.comet.ml/luuf/hyperparameters4/62fefd2086f147aab52c27caf5ed2b66\n",
      "\n"
     ]
    },
    {
     "name": "stdout",
     "output_type": "stream",
     "text": [
      "train.lr\n",
      "0.1\n",
      "train.momentum\n",
      "0.8\n",
      "train.epochs\n",
      "1\n"
     ]
    },
    {
     "name": "stderr",
     "output_type": "stream",
     "text": [
      "COMET INFO: ---------------------------\n",
      "COMET INFO: Comet.ml Experiment Summary\n",
      "COMET INFO: ---------------------------\n",
      "COMET INFO:   Data:\n",
      "COMET INFO:     display_summary_level : 1\n",
      "COMET INFO:     url                   : https://www.comet.ml/luuf/hyperparameters4/62fefd2086f147aab52c27caf5ed2b66\n",
      "COMET INFO:   Metrics [count] (min, max):\n",
      "COMET INFO:     loss [7] : (0.10335316509008408, 0.40418460965156555)\n",
      "COMET INFO:   Parameters:\n",
      "COMET INFO:     train.epochs   : 1\n",
      "COMET INFO:     train.lr       : 0.1\n",
      "COMET INFO:     train.momentum : 0.8\n",
      "COMET INFO:   Uploads:\n",
      "COMET INFO:     environment details      : 1\n",
      "COMET INFO:     filename                 : 1\n",
      "COMET INFO:     git metadata             : 1\n",
      "COMET INFO:     git-patch (uncompressed) : 1 (73.70 KB)\n",
      "COMET INFO:     installed packages       : 1\n",
      "COMET INFO:     model graph              : 1\n",
      "COMET INFO:     notebook                 : 1\n",
      "COMET INFO:     os packages              : 1\n",
      "COMET INFO:     source_code              : 1\n",
      "COMET INFO: ---------------------------\n",
      "COMET INFO: Uploading 1 metrics, params and output messages\n",
      "COMET WARNING: As you are running in a Jupyter environment, you will need to call `experiment.end()` when finished to ensure all metrics and code are logged before exiting.\n",
      "COMET INFO: Experiment is live on comet.ml https://www.comet.ml/luuf/hyperparameters4/dee254b1da764a09a4e762446a4b5d48\n",
      "\n"
     ]
    },
    {
     "name": "stdout",
     "output_type": "stream",
     "text": [
      "train.lr\n",
      "0.1\n",
      "train.momentum\n",
      "0.8\n",
      "train.epochs\n",
      "2\n"
     ]
    },
    {
     "name": "stderr",
     "output_type": "stream",
     "text": [
      "COMET INFO: ---------------------------\n",
      "COMET INFO: Comet.ml Experiment Summary\n",
      "COMET INFO: ---------------------------\n",
      "COMET INFO:   Data:\n",
      "COMET INFO:     display_summary_level : 1\n",
      "COMET INFO:     url                   : https://www.comet.ml/luuf/hyperparameters4/dee254b1da764a09a4e762446a4b5d48\n",
      "COMET INFO:   Metrics [count] (min, max):\n",
      "COMET INFO:     loss [13] : (0.10409349203109741, 0.41137489676475525)\n",
      "COMET INFO:   Parameters:\n",
      "COMET INFO:     train.epochs   : 2\n",
      "COMET INFO:     train.lr       : 0.1\n",
      "COMET INFO:     train.momentum : 0.8\n",
      "COMET INFO:   Uploads:\n",
      "COMET INFO:     environment details      : 1\n",
      "COMET INFO:     filename                 : 1\n",
      "COMET INFO:     git metadata             : 1\n",
      "COMET INFO:     git-patch (uncompressed) : 1 (73.70 KB)\n",
      "COMET INFO:     installed packages       : 1\n",
      "COMET INFO:     model graph              : 1\n",
      "COMET INFO:     notebook                 : 1\n",
      "COMET INFO:     os packages              : 1\n",
      "COMET INFO:     source_code              : 1\n",
      "COMET INFO: ---------------------------\n",
      "COMET INFO: Uploading 1 metrics, params and output messages\n",
      "COMET WARNING: As you are running in a Jupyter environment, you will need to call `experiment.end()` when finished to ensure all metrics and code are logged before exiting.\n",
      "COMET INFO: Experiment is live on comet.ml https://www.comet.ml/luuf/hyperparameters4/decb4d1b77bb479180075f95a49770fc\n",
      "\n"
     ]
    },
    {
     "name": "stdout",
     "output_type": "stream",
     "text": [
      "train.lr\n",
      "0.01\n",
      "train.momentum\n",
      "0\n",
      "train.epochs\n",
      "1\n"
     ]
    },
    {
     "name": "stderr",
     "output_type": "stream",
     "text": [
      "COMET INFO: ---------------------------\n",
      "COMET INFO: Comet.ml Experiment Summary\n",
      "COMET INFO: ---------------------------\n",
      "COMET INFO:   Data:\n",
      "COMET INFO:     display_summary_level : 1\n",
      "COMET INFO:     url                   : https://www.comet.ml/luuf/hyperparameters4/decb4d1b77bb479180075f95a49770fc\n",
      "COMET INFO:   Metrics [count] (min, max):\n",
      "COMET INFO:     loss [7] : (0.09184682369232178, 0.3561703860759735)\n",
      "COMET INFO:   Parameters:\n",
      "COMET INFO:     train.epochs   : 1\n",
      "COMET INFO:     train.lr       : 0.01\n",
      "COMET INFO:     train.momentum : 0\n",
      "COMET INFO:   Uploads:\n",
      "COMET INFO:     environment details      : 1\n",
      "COMET INFO:     filename                 : 1\n",
      "COMET INFO:     git metadata             : 1\n",
      "COMET INFO:     git-patch (uncompressed) : 1 (73.70 KB)\n",
      "COMET INFO:     installed packages       : 1\n",
      "COMET INFO:     model graph              : 1\n",
      "COMET INFO:     notebook                 : 1\n",
      "COMET INFO:     os packages              : 1\n",
      "COMET INFO:     source_code              : 1\n",
      "COMET INFO: ---------------------------\n",
      "COMET INFO: Uploading 1 metrics, params and output messages\n",
      "COMET WARNING: As you are running in a Jupyter environment, you will need to call `experiment.end()` when finished to ensure all metrics and code are logged before exiting.\n",
      "COMET INFO: Experiment is live on comet.ml https://www.comet.ml/luuf/hyperparameters4/6ca6a7e757964d07b9c76e16b0b0e778\n",
      "\n"
     ]
    },
    {
     "name": "stdout",
     "output_type": "stream",
     "text": [
      "train.lr\n",
      "0.01\n",
      "train.momentum\n",
      "0\n",
      "train.epochs\n",
      "2\n"
     ]
    },
    {
     "name": "stderr",
     "output_type": "stream",
     "text": [
      "COMET INFO: ---------------------------\n",
      "COMET INFO: Comet.ml Experiment Summary\n",
      "COMET INFO: ---------------------------\n",
      "COMET INFO:   Data:\n",
      "COMET INFO:     display_summary_level : 1\n",
      "COMET INFO:     url                   : https://www.comet.ml/luuf/hyperparameters4/6ca6a7e757964d07b9c76e16b0b0e778\n",
      "COMET INFO:   Metrics [count] (min, max):\n",
      "COMET INFO:     loss [13] : (0.11236698180437088, 0.3675498962402344)\n",
      "COMET INFO:   Parameters:\n",
      "COMET INFO:     train.epochs   : 2\n",
      "COMET INFO:     train.lr       : 0.01\n",
      "COMET INFO:     train.momentum : 0\n",
      "COMET INFO:   Uploads:\n",
      "COMET INFO:     environment details      : 1\n",
      "COMET INFO:     filename                 : 1\n",
      "COMET INFO:     git metadata             : 1\n",
      "COMET INFO:     git-patch (uncompressed) : 1 (73.70 KB)\n",
      "COMET INFO:     installed packages       : 1\n",
      "COMET INFO:     model graph              : 1\n",
      "COMET INFO:     notebook                 : 1\n",
      "COMET INFO:     os packages              : 1\n",
      "COMET INFO:     source_code              : 1\n",
      "COMET INFO: ---------------------------\n",
      "COMET INFO: Uploading 1 metrics, params and output messages\n",
      "COMET WARNING: As you are running in a Jupyter environment, you will need to call `experiment.end()` when finished to ensure all metrics and code are logged before exiting.\n",
      "COMET INFO: Experiment is live on comet.ml https://www.comet.ml/luuf/hyperparameters4/f1d58a47767545ec9c2aaa08c1dff462\n",
      "\n"
     ]
    },
    {
     "name": "stdout",
     "output_type": "stream",
     "text": [
      "train.lr\n",
      "0.01\n",
      "train.momentum\n",
      "0.4\n",
      "train.epochs\n",
      "1\n"
     ]
    },
    {
     "name": "stderr",
     "output_type": "stream",
     "text": [
      "COMET INFO: ---------------------------\n",
      "COMET INFO: Comet.ml Experiment Summary\n",
      "COMET INFO: ---------------------------\n",
      "COMET INFO:   Data:\n",
      "COMET INFO:     display_summary_level : 1\n",
      "COMET INFO:     url                   : https://www.comet.ml/luuf/hyperparameters4/f1d58a47767545ec9c2aaa08c1dff462\n",
      "COMET INFO:   Metrics [count] (min, max):\n",
      "COMET INFO:     loss [7] : (0.12054970115423203, 0.4445362091064453)\n",
      "COMET INFO:   Parameters:\n",
      "COMET INFO:     train.epochs   : 1\n",
      "COMET INFO:     train.lr       : 0.01\n",
      "COMET INFO:     train.momentum : 0.4\n",
      "COMET INFO:   Uploads:\n",
      "COMET INFO:     environment details      : 1\n",
      "COMET INFO:     filename                 : 1\n",
      "COMET INFO:     git metadata             : 1\n",
      "COMET INFO:     git-patch (uncompressed) : 1 (73.70 KB)\n",
      "COMET INFO:     installed packages       : 1\n",
      "COMET INFO:     model graph              : 1\n",
      "COMET INFO:     notebook                 : 1\n",
      "COMET INFO:     os packages              : 1\n",
      "COMET INFO:     source_code              : 1\n",
      "COMET INFO: ---------------------------\n",
      "COMET INFO: Uploading 1 metrics, params and output messages\n",
      "COMET WARNING: As you are running in a Jupyter environment, you will need to call `experiment.end()` when finished to ensure all metrics and code are logged before exiting.\n",
      "COMET INFO: Experiment is live on comet.ml https://www.comet.ml/luuf/hyperparameters4/9e38a034fd7c4d34a54c3ef8e3a114c2\n",
      "\n"
     ]
    },
    {
     "name": "stdout",
     "output_type": "stream",
     "text": [
      "train.lr\n",
      "0.01\n",
      "train.momentum\n",
      "0.4\n",
      "train.epochs\n",
      "2\n"
     ]
    },
    {
     "name": "stderr",
     "output_type": "stream",
     "text": [
      "COMET INFO: ---------------------------\n",
      "COMET INFO: Comet.ml Experiment Summary\n",
      "COMET INFO: ---------------------------\n",
      "COMET INFO:   Data:\n",
      "COMET INFO:     display_summary_level : 1\n",
      "COMET INFO:     url                   : https://www.comet.ml/luuf/hyperparameters4/9e38a034fd7c4d34a54c3ef8e3a114c2\n",
      "COMET INFO:   Metrics [count] (min, max):\n",
      "COMET INFO:     loss [13] : (0.09873195737600327, 0.47209128737449646)\n",
      "COMET INFO:   Parameters:\n",
      "COMET INFO:     train.epochs   : 2\n",
      "COMET INFO:     train.lr       : 0.01\n",
      "COMET INFO:     train.momentum : 0.4\n",
      "COMET INFO:   Uploads:\n",
      "COMET INFO:     environment details      : 1\n",
      "COMET INFO:     filename                 : 1\n",
      "COMET INFO:     git metadata             : 1\n",
      "COMET INFO:     git-patch (uncompressed) : 1 (73.70 KB)\n",
      "COMET INFO:     installed packages       : 1\n",
      "COMET INFO:     model graph              : 1\n",
      "COMET INFO:     notebook                 : 1\n",
      "COMET INFO:     os packages              : 1\n",
      "COMET INFO:     source_code              : 1\n",
      "COMET INFO: ---------------------------\n",
      "COMET INFO: Uploading 1 metrics, params and output messages\n",
      "COMET WARNING: As you are running in a Jupyter environment, you will need to call `experiment.end()` when finished to ensure all metrics and code are logged before exiting.\n",
      "COMET INFO: Experiment is live on comet.ml https://www.comet.ml/luuf/hyperparameters4/c58a0e4433f64b189ace114887da205a\n",
      "\n"
     ]
    },
    {
     "name": "stdout",
     "output_type": "stream",
     "text": [
      "train.lr\n",
      "0.01\n",
      "train.momentum\n",
      "0.8\n",
      "train.epochs\n",
      "1\n"
     ]
    },
    {
     "name": "stderr",
     "output_type": "stream",
     "text": [
      "COMET INFO: ---------------------------\n",
      "COMET INFO: Comet.ml Experiment Summary\n",
      "COMET INFO: ---------------------------\n",
      "COMET INFO:   Data:\n",
      "COMET INFO:     display_summary_level : 1\n",
      "COMET INFO:     url                   : https://www.comet.ml/luuf/hyperparameters4/c58a0e4433f64b189ace114887da205a\n",
      "COMET INFO:   Metrics [count] (min, max):\n",
      "COMET INFO:     loss [7] : (0.10634265094995499, 0.44805121421813965)\n",
      "COMET INFO:   Parameters:\n",
      "COMET INFO:     train.epochs   : 1\n",
      "COMET INFO:     train.lr       : 0.01\n",
      "COMET INFO:     train.momentum : 0.8\n",
      "COMET INFO:   Uploads:\n",
      "COMET INFO:     environment details      : 1\n",
      "COMET INFO:     filename                 : 1\n",
      "COMET INFO:     git metadata             : 1\n",
      "COMET INFO:     git-patch (uncompressed) : 1 (73.70 KB)\n",
      "COMET INFO:     installed packages       : 1\n",
      "COMET INFO:     model graph              : 1\n",
      "COMET INFO:     notebook                 : 1\n",
      "COMET INFO:     os packages              : 1\n",
      "COMET INFO:     source_code              : 1\n",
      "COMET INFO: ---------------------------\n",
      "COMET INFO: Uploading 1 metrics, params and output messages\n",
      "COMET WARNING: As you are running in a Jupyter environment, you will need to call `experiment.end()` when finished to ensure all metrics and code are logged before exiting.\n",
      "COMET INFO: Experiment is live on comet.ml https://www.comet.ml/luuf/hyperparameters4/00d29db3fcc84208b3e7149df04e2337\n",
      "\n"
     ]
    },
    {
     "name": "stdout",
     "output_type": "stream",
     "text": [
      "train.lr\n",
      "0.01\n",
      "train.momentum\n",
      "0.8\n",
      "train.epochs\n",
      "2\n"
     ]
    },
    {
     "name": "stderr",
     "output_type": "stream",
     "text": [
      "COMET INFO: ---------------------------\n",
      "COMET INFO: Comet.ml Experiment Summary\n",
      "COMET INFO: ---------------------------\n",
      "COMET INFO:   Data:\n",
      "COMET INFO:     display_summary_level : 1\n",
      "COMET INFO:     url                   : https://www.comet.ml/luuf/hyperparameters4/00d29db3fcc84208b3e7149df04e2337\n",
      "COMET INFO:   Metrics [count] (min, max):\n",
      "COMET INFO:     loss [13] : (0.10989960283041, 0.44074633717536926)\n",
      "COMET INFO:   Parameters:\n",
      "COMET INFO:     train.epochs   : 2\n",
      "COMET INFO:     train.lr       : 0.01\n",
      "COMET INFO:     train.momentum : 0.8\n",
      "COMET INFO:   Uploads:\n",
      "COMET INFO:     environment details      : 1\n",
      "COMET INFO:     filename                 : 1\n",
      "COMET INFO:     git metadata             : 1\n",
      "COMET INFO:     git-patch (uncompressed) : 1 (73.70 KB)\n",
      "COMET INFO:     installed packages       : 1\n",
      "COMET INFO:     model graph              : 1\n",
      "COMET INFO:     notebook                 : 1\n",
      "COMET INFO:     os packages              : 1\n",
      "COMET INFO:     source_code              : 1\n",
      "COMET INFO: ---------------------------\n",
      "COMET INFO: Uploading 1 metrics, params and output messages\n",
      "COMET WARNING: As you are running in a Jupyter environment, you will need to call `experiment.end()` when finished to ensure all metrics and code are logged before exiting.\n",
      "COMET INFO: Experiment is live on comet.ml https://www.comet.ml/luuf/hyperparameters4/518861d2420c4a8d9fa9ada534df8c6f\n",
      "\n"
     ]
    },
    {
     "name": "stdout",
     "output_type": "stream",
     "text": [
      "train.lr\n",
      "0.001\n",
      "train.momentum\n",
      "0\n",
      "train.epochs\n",
      "1\n"
     ]
    },
    {
     "name": "stderr",
     "output_type": "stream",
     "text": [
      "COMET INFO: ---------------------------\n",
      "COMET INFO: Comet.ml Experiment Summary\n",
      "COMET INFO: ---------------------------\n",
      "COMET INFO:   Data:\n",
      "COMET INFO:     display_summary_level : 1\n",
      "COMET INFO:     url                   : https://www.comet.ml/luuf/hyperparameters4/518861d2420c4a8d9fa9ada534df8c6f\n",
      "COMET INFO:   Metrics [count] (min, max):\n",
      "COMET INFO:     loss [7] : (0.3111574649810791, 0.40386223793029785)\n",
      "COMET INFO:   Parameters:\n",
      "COMET INFO:     train.epochs   : 1\n",
      "COMET INFO:     train.lr       : 0.001\n",
      "COMET INFO:     train.momentum : 0\n",
      "COMET INFO:   Uploads:\n",
      "COMET INFO:     environment details      : 1\n",
      "COMET INFO:     filename                 : 1\n",
      "COMET INFO:     git metadata             : 1\n",
      "COMET INFO:     git-patch (uncompressed) : 1 (73.70 KB)\n",
      "COMET INFO:     installed packages       : 1\n",
      "COMET INFO:     model graph              : 1\n",
      "COMET INFO:     notebook                 : 1\n",
      "COMET INFO:     os packages              : 1\n",
      "COMET INFO:     source_code              : 1\n",
      "COMET INFO: ---------------------------\n",
      "COMET INFO: Uploading 1 metrics, params and output messages\n",
      "COMET WARNING: As you are running in a Jupyter environment, you will need to call `experiment.end()` when finished to ensure all metrics and code are logged before exiting.\n",
      "COMET INFO: Experiment is live on comet.ml https://www.comet.ml/luuf/hyperparameters4/8f4f11aa84b64604ba0776c838de57a7\n",
      "\n"
     ]
    },
    {
     "name": "stdout",
     "output_type": "stream",
     "text": [
      "train.lr\n",
      "0.001\n",
      "train.momentum\n",
      "0\n",
      "train.epochs\n",
      "2\n"
     ]
    },
    {
     "name": "stderr",
     "output_type": "stream",
     "text": [
      "COMET INFO: ---------------------------\n",
      "COMET INFO: Comet.ml Experiment Summary\n",
      "COMET INFO: ---------------------------\n",
      "COMET INFO:   Data:\n",
      "COMET INFO:     display_summary_level : 1\n",
      "COMET INFO:     url                   : https://www.comet.ml/luuf/hyperparameters4/8f4f11aa84b64604ba0776c838de57a7\n",
      "COMET INFO:   Metrics [count] (min, max):\n",
      "COMET INFO:     loss [13] : (0.20784257352352142, 0.41437506675720215)\n",
      "COMET INFO:   Parameters:\n",
      "COMET INFO:     train.epochs   : 2\n",
      "COMET INFO:     train.lr       : 0.001\n",
      "COMET INFO:     train.momentum : 0\n",
      "COMET INFO:   Uploads:\n",
      "COMET INFO:     environment details      : 1\n",
      "COMET INFO:     filename                 : 1\n",
      "COMET INFO:     git metadata             : 1\n",
      "COMET INFO:     git-patch (uncompressed) : 1 (73.70 KB)\n",
      "COMET INFO:     installed packages       : 1\n",
      "COMET INFO:     model graph              : 1\n",
      "COMET INFO:     notebook                 : 1\n",
      "COMET INFO:     os packages              : 1\n",
      "COMET INFO:     source_code              : 1\n",
      "COMET INFO: ---------------------------\n",
      "COMET INFO: Uploading 1 metrics, params and output messages\n",
      "COMET WARNING: As you are running in a Jupyter environment, you will need to call `experiment.end()` when finished to ensure all metrics and code are logged before exiting.\n",
      "COMET INFO: Experiment is live on comet.ml https://www.comet.ml/luuf/hyperparameters4/832ff13059d74f1d82baf84f4fd89e39\n",
      "\n"
     ]
    },
    {
     "name": "stdout",
     "output_type": "stream",
     "text": [
      "train.lr\n",
      "0.001\n",
      "train.momentum\n",
      "0.4\n",
      "train.epochs\n",
      "1\n"
     ]
    },
    {
     "name": "stderr",
     "output_type": "stream",
     "text": [
      "COMET INFO: ---------------------------\n",
      "COMET INFO: Comet.ml Experiment Summary\n",
      "COMET INFO: ---------------------------\n",
      "COMET INFO:   Data:\n",
      "COMET INFO:     display_summary_level : 1\n",
      "COMET INFO:     url                   : https://www.comet.ml/luuf/hyperparameters4/832ff13059d74f1d82baf84f4fd89e39\n",
      "COMET INFO:   Metrics [count] (min, max):\n",
      "COMET INFO:     loss [7] : (0.20673520863056183, 0.3831486701965332)\n",
      "COMET INFO:   Parameters:\n",
      "COMET INFO:     train.epochs   : 1\n",
      "COMET INFO:     train.lr       : 0.001\n",
      "COMET INFO:     train.momentum : 0.4\n",
      "COMET INFO:   Uploads:\n",
      "COMET INFO:     environment details      : 1\n",
      "COMET INFO:     filename                 : 1\n",
      "COMET INFO:     git metadata             : 1\n",
      "COMET INFO:     git-patch (uncompressed) : 1 (73.70 KB)\n",
      "COMET INFO:     installed packages       : 1\n",
      "COMET INFO:     model graph              : 1\n",
      "COMET INFO:     notebook                 : 1\n",
      "COMET INFO:     os packages              : 1\n",
      "COMET INFO:     source_code              : 1\n",
      "COMET INFO: ---------------------------\n",
      "COMET INFO: Uploading 1 metrics, params and output messages\n",
      "COMET WARNING: As you are running in a Jupyter environment, you will need to call `experiment.end()` when finished to ensure all metrics and code are logged before exiting.\n",
      "COMET INFO: Experiment is live on comet.ml https://www.comet.ml/luuf/hyperparameters4/dacca9089dea4962b3052142498898c3\n",
      "\n"
     ]
    },
    {
     "name": "stdout",
     "output_type": "stream",
     "text": [
      "train.lr\n",
      "0.001\n",
      "train.momentum\n",
      "0.4\n",
      "train.epochs\n",
      "2\n"
     ]
    },
    {
     "name": "stderr",
     "output_type": "stream",
     "text": [
      "COMET INFO: ---------------------------\n",
      "COMET INFO: Comet.ml Experiment Summary\n",
      "COMET INFO: ---------------------------\n",
      "COMET INFO:   Data:\n",
      "COMET INFO:     display_summary_level : 1\n",
      "COMET INFO:     url                   : https://www.comet.ml/luuf/hyperparameters4/dacca9089dea4962b3052142498898c3\n",
      "COMET INFO:   Metrics [count] (min, max):\n",
      "COMET INFO:     loss [13] : (0.14673776924610138, 0.42925548553466797)\n",
      "COMET INFO:   Parameters:\n",
      "COMET INFO:     train.epochs   : 2\n",
      "COMET INFO:     train.lr       : 0.001\n",
      "COMET INFO:     train.momentum : 0.4\n",
      "COMET INFO:   Uploads:\n",
      "COMET INFO:     environment details      : 1\n",
      "COMET INFO:     filename                 : 1\n",
      "COMET INFO:     git metadata             : 1\n",
      "COMET INFO:     git-patch (uncompressed) : 1 (73.70 KB)\n",
      "COMET INFO:     installed packages       : 1\n",
      "COMET INFO:     model graph              : 1\n",
      "COMET INFO:     notebook                 : 1\n",
      "COMET INFO:     os packages              : 1\n",
      "COMET INFO:     source_code              : 1\n",
      "COMET INFO: ---------------------------\n",
      "COMET INFO: Uploading 1 metrics, params and output messages\n",
      "COMET WARNING: As you are running in a Jupyter environment, you will need to call `experiment.end()` when finished to ensure all metrics and code are logged before exiting.\n",
      "COMET INFO: Experiment is live on comet.ml https://www.comet.ml/luuf/hyperparameters4/392af32c677f4b509140f4b4506530f4\n",
      "\n"
     ]
    },
    {
     "name": "stdout",
     "output_type": "stream",
     "text": [
      "train.lr\n",
      "0.001\n",
      "train.momentum\n",
      "0.8\n",
      "train.epochs\n",
      "1\n"
     ]
    },
    {
     "name": "stderr",
     "output_type": "stream",
     "text": [
      "COMET INFO: ---------------------------\n",
      "COMET INFO: Comet.ml Experiment Summary\n",
      "COMET INFO: ---------------------------\n",
      "COMET INFO:   Data:\n",
      "COMET INFO:     display_summary_level : 1\n",
      "COMET INFO:     url                   : https://www.comet.ml/luuf/hyperparameters4/392af32c677f4b509140f4b4506530f4\n",
      "COMET INFO:   Metrics [count] (min, max):\n",
      "COMET INFO:     loss [7] : (0.15335775911808014, 0.42251837253570557)\n",
      "COMET INFO:   Parameters:\n",
      "COMET INFO:     train.epochs   : 1\n",
      "COMET INFO:     train.lr       : 0.001\n",
      "COMET INFO:     train.momentum : 0.8\n",
      "COMET INFO:   Uploads:\n",
      "COMET INFO:     environment details      : 1\n",
      "COMET INFO:     filename                 : 1\n",
      "COMET INFO:     git metadata             : 1\n",
      "COMET INFO:     git-patch (uncompressed) : 1 (73.70 KB)\n",
      "COMET INFO:     installed packages       : 1\n",
      "COMET INFO:     model graph              : 1\n",
      "COMET INFO:     notebook                 : 1\n",
      "COMET INFO:     os packages              : 1\n",
      "COMET INFO:     source_code              : 1\n",
      "COMET INFO: ---------------------------\n",
      "COMET INFO: Uploading 1 metrics, params and output messages\n",
      "COMET WARNING: As you are running in a Jupyter environment, you will need to call `experiment.end()` when finished to ensure all metrics and code are logged before exiting.\n",
      "COMET INFO: Experiment is live on comet.ml https://www.comet.ml/luuf/hyperparameters4/1b3e5fe42b244e20bda75e50440cd78a\n",
      "\n"
     ]
    },
    {
     "name": "stdout",
     "output_type": "stream",
     "text": [
      "train.lr\n",
      "0.001\n",
      "train.momentum\n",
      "0.8\n",
      "train.epochs\n",
      "2\n"
     ]
    },
    {
     "name": "stderr",
     "output_type": "stream",
     "text": [
      "COMET INFO: ---------------------------\n",
      "COMET INFO: Comet.ml Experiment Summary\n",
      "COMET INFO: ---------------------------\n",
      "COMET INFO:   Data:\n",
      "COMET INFO:     display_summary_level : 1\n",
      "COMET INFO:     url                   : https://www.comet.ml/luuf/hyperparameters4/1b3e5fe42b244e20bda75e50440cd78a\n",
      "COMET INFO:   Metrics [count] (min, max):\n",
      "COMET INFO:     loss [13] : (0.11620313674211502, 0.4011023938655853)\n",
      "COMET INFO:   Parameters:\n",
      "COMET INFO:     train.epochs   : 2\n",
      "COMET INFO:     train.lr       : 0.001\n",
      "COMET INFO:     train.momentum : 0.8\n",
      "COMET INFO:   Uploads:\n",
      "COMET INFO:     environment details      : 1\n",
      "COMET INFO:     filename                 : 1\n",
      "COMET INFO:     git metadata             : 1\n",
      "COMET INFO:     git-patch (uncompressed) : 1 (73.70 KB)\n",
      "COMET INFO:     installed packages       : 1\n",
      "COMET INFO:     model graph              : 1\n",
      "COMET INFO:     notebook                 : 1\n",
      "COMET INFO:     os packages              : 1\n",
      "COMET INFO:     source_code              : 1\n",
      "COMET INFO: ---------------------------\n",
      "COMET INFO: Uploading 1 metrics, params and output messages\n"
     ]
    }
   ],
   "source": [
    "\n",
    "# img_data = requests.get(\"https://d1iczm3wxxz9zd.cloudfront.net/971e55cc-128e-4809-bb05-2adf7b0238ec/000000-0000000000/39127110424036069919666352160427857710300904072429089980813045768686488932997/ITEM_PREVIEW1.jpg\").content\n",
    "# with open('pineapple.jpg', 'wb') as handler:\n",
    "#     handler.write(img_data)\n",
    "\n",
    "\n",
    "\n",
    "def make_grid(possible_values):\n",
    "    possible_values = possible_values.items()\n",
    "    result = [{}]\n",
    "    for k, vals in possible_values:\n",
    "        result = [dict(**x, **{k: v}) for x in result for v in vals]\n",
    "    return result\n",
    "\n",
    "    \n",
    "def hyperparameter_search(possible_values, fn):\n",
    "    for params in make_grid(possible_values):\n",
    "        api_url = # blah\n",
    "        json_dict = {\n",
    "            'token': \n",
    "            # blah blah\n",
    "            'tasks': [{\n",
    "                'parameters': '\\n'.join([f\"{k}={v}\" for k, v in params])\n",
    "            }]\n",
    "        }\n",
    "        response = requests.post(api_url, json = json_dict)\n",
    "\n",
    "if __name__ == 'main':\n",
    "\n",
    "    possible_values = {\n",
    "        'train.lr': [0.1, 0.01, 0.001],\n",
    "        'train.momentum': [0, 0.4, 0.8],\n",
    "        'train.epochs': [1,2]\n",
    "    }\n",
    "    hyperparameter_search(possible_values)\n",
    "\n",
    "# hyperparameter_search(possible_values, train)"
   ]
  },
  {
   "cell_type": "code",
   "execution_count": null,
   "metadata": {},
   "outputs": [],
   "source": []
  },
  {
   "cell_type": "code",
   "execution_count": null,
   "metadata": {},
   "outputs": [],
   "source": []
  }
 ],
 "metadata": {
  "interpreter": {
   "hash": "e7370f93d1d0cde622a1f8e1c04877d8463912d04d973331ad4851f04de6915a"
  },
  "kernelspec": {
   "display_name": "Python 3 (ipykernel)",
   "language": "python",
   "name": "python3"
  },
  "language_info": {
   "codemirror_mode": {
    "name": "ipython",
    "version": 3
   },
   "file_extension": ".py",
   "mimetype": "text/x-python",
   "name": "python",
   "nbconvert_exporter": "python",
   "pygments_lexer": "ipython3",
   "version": "3.9.1"
  }
 },
 "nbformat": 4,
 "nbformat_minor": 2
}
